{
 "cells": [
  {
   "cell_type": "markdown",
   "id": "f6ae2782-57ea-48f0-b948-b412d0076ffc",
   "metadata": {
    "id": "f6ae2782-57ea-48f0-b948-b412d0076ffc"
   },
   "source": [
    "# Deep Reinforcement Learning Laboratory\n",
    "\n",
    "In this laboratory session we will work on getting more advanced versions of Deep Reinforcement Learning algorithms up and running. Deep Reinforcement Learning is **hard**, and getting agents to stably train can be frustrating and requires quite a bit of subtlety in analysis of intermediate results. We will start by refactoring (a bit) my implementation of `REINFORCE` on the [Cartpole environment](https://gymnasium.farama.org/environments/classic_control/cart_pole/)."
   ]
  },
  {
   "cell_type": "markdown",
   "id": "3fadaf0c-f9b2-4680-8456-0eadb5eb8c2f",
   "metadata": {
    "id": "3fadaf0c-f9b2-4680-8456-0eadb5eb8c2f"
   },
   "source": [
    "## Exercise 1: Improving my `REINFORCE` Implementation (warm up)\n",
    "\n",
    "In this exercise we will refactor a bit and improve some aspects of my `REINFORCE` implementation.\n",
    "\n",
    "**First Things First**: Spend some time playing with the environment to make sure you understand how it works."
   ]
  },
  {
   "cell_type": "markdown",
   "id": "066a593c",
   "metadata": {},
   "source": [
    "### Imports and Weights and Biases login\n",
    "Main imports to run the code. Installation, login and eventually update of wandb."
   ]
  },
  {
   "cell_type": "code",
   "execution_count": 1,
   "id": "241e9bdc-7aa9-4a12-a57f-088fdc87eab6",
   "metadata": {
    "id": "241e9bdc-7aa9-4a12-a57f-088fdc87eab6",
    "outputId": "0c82dc78-2f7c-4642-c04c-b2fc97fde729"
   },
   "outputs": [
    {
     "name": "stderr",
     "output_type": "stream",
     "text": [
      "wandb: Currently logged in as: niccolo-arati (dla-labs). Use `wandb login --relogin` to force relogin\n"
     ]
    },
    {
     "data": {
      "text/plain": [
       "True"
      ]
     },
     "execution_count": 1,
     "metadata": {},
     "output_type": "execute_result"
    }
   ],
   "source": [
    "# Standard imports.\n",
    "import numpy as np\n",
    "import matplotlib.pyplot as plt\n",
    "import gymnasium as gym\n",
    "import torch\n",
    "import torch.nn as nn\n",
    "import torch.nn.functional as F\n",
    "import torch.optim as optim\n",
    "\n",
    "# Plus one non standard one -- we need this to sample from policies.\n",
    "from torch.distributions import Categorical\n",
    "\n",
    "# Tracking experiments\n",
    "import wandb\n",
    "wandb.login()"
   ]
  },
  {
   "cell_type": "markdown",
   "id": "6be21044",
   "metadata": {},
   "source": [
    "### Policy Network\n",
    "A simple policy network with one hidden layer. A temperature parameter could be specified to smooth the output (default value is 1, which leads to no changes)."
   ]
  },
  {
   "cell_type": "code",
   "execution_count": 2,
   "id": "cbd2dd9d-a60b-4892-878f-d83f64ac5f63",
   "metadata": {
    "id": "cbd2dd9d-a60b-4892-878f-d83f64ac5f63",
    "tags": []
   },
   "outputs": [],
   "source": [
    "def temperature_scaled_softmax(logits, temperature):\n",
    "    logits = logits / temperature\n",
    "    return F.softmax(logits, dim=-1)\n",
    "\n",
    "# A simple, but generic, policy network with one hidden layer.\n",
    "class PolicyNet(nn.Module):\n",
    "    def __init__(self, env, inner_size = 128, T=1.0):\n",
    "        super().__init__()\n",
    "        self.fc1 = nn.Linear(env.observation_space.shape[0], inner_size)\n",
    "        self.fc2 = nn.Linear(inner_size, env.action_space.n)\n",
    "        self.relu = nn.ReLU()\n",
    "        self.temperature = T\n",
    "\n",
    "    def forward(self, s):\n",
    "        s = F.relu(self.fc1(s))\n",
    "        s = temperature_scaled_softmax(self.fc2(s), self.temperature)\n",
    "        return s"
   ]
  },
  {
   "cell_type": "markdown",
   "id": "0ae31dce-be71-4a86-95fd-1af902f026b8",
   "metadata": {
    "id": "0ae31dce-be71-4a86-95fd-1af902f026b8"
   },
   "source": [
    "**Next Things Next**: Now get your `REINFORCE` implementation working on the environment. You can import my (probably buggy and definitely inefficient) implementation here. Or even better, refactor an implementation into a separate package from which you can `import` the stuff you need here."
   ]
  },
  {
   "cell_type": "markdown",
   "id": "98b7419a",
   "metadata": {},
   "source": [
    "### Reinforce\n",
    "I decided to define a wrapper class for executing the REINFORCE policy gradient algorithm. This class will also be used as root for a class inheritance hierarchy, extending Reinforce to add the new functionalities required by the notebook.\n",
    "\n",
    "As attributes, it requires a policy network, the environment to train the policy network, eventually an environment with rendering to show intermediate results, and some training hyperparameters:\n",
    "\n",
    "1. gamma: used to compute discounted total reward, balances the importance of immediate versus future reward. A higher value gives a higher weight to future rewards while a lower value prioritizes immediate rewards.\n",
    "2. num_episodes: number of episodes to train the policy network\n",
    "3. lr: learning rate\n",
    "4. max_len: maximum length of a single episode\n",
    "\n",
    "The methods of the class are used to select actions (select_action and select_max_action) and run an episode in the environment (run_episode), as well as to execute the REINFORCE algorithm (reinforce)."
   ]
  },
  {
   "cell_type": "code",
   "execution_count": 7,
   "id": "6ad8b148-6268-408c-bf20-a75d770746c0",
   "metadata": {
    "id": "6ad8b148-6268-408c-bf20-a75d770746c0"
   },
   "outputs": [],
   "source": [
    "class Reinforce:\n",
    "    def __init__(self, policy, env, env_render=None, gamma=0.99, num_episodes=10, lr=1e-2,\n",
    "                 max_len = 500):\n",
    "        self.policy = policy\n",
    "        self.environment = env\n",
    "        self.env_render = env_render\n",
    "        self.gamma = gamma\n",
    "        self.num_episodes = num_episodes\n",
    "        self.learning_rate = lr\n",
    "        self.max_len = max_len # Max length for each episode\n",
    "\n",
    "    # Given an environment, observation, and policy, sample from pi(a | obs). Returns the\n",
    "    # selected action and the log probability of that action (needed for policy gradient).\n",
    "    def select_action(self, obs):\n",
    "        dist = Categorical(self.policy(obs))\n",
    "        action = dist.sample() \n",
    "        log_prob = dist.log_prob(action)\n",
    "        return (action.item(), log_prob.reshape(1))\n",
    "\n",
    "    # Used for testing, select the most probabile action given the policy and the current observation.\n",
    "    def select_max_action(self, obs):\n",
    "        probs = self.policy(obs)\n",
    "        action = torch.argmax(probs)\n",
    "        log_prob = torch.log(torch.max(probs))\n",
    "        return(action.item(), log_prob.reshape(1))\n",
    "\n",
    "    # Utility to compute the discounted total reward. Torch doesn't like flipped arrays, so we need to\n",
    "    # .copy() the final numpy array.\n",
    "    def compute_returns(self, rewards):\n",
    "        return np.flip(np.cumsum([self.gamma**(i+1)*r for (i, r) in enumerate(rewards)][::-1]), 0).copy()\n",
    "\n",
    "    # Sets an environment with rendering to display final results\n",
    "    def setEnvRender(self, env_render):\n",
    "        self.env_render = env_render\n",
    "\n",
    "    # Given an environment and a policy, run it up to the maximum number of steps.\n",
    "    # If test is True, then the action is selected with the deterministic way\n",
    "    def run_episode(self, display=False, test=False):\n",
    "        # Collect just about everything.\n",
    "        observations = []\n",
    "        actions = []\n",
    "        log_probs = []\n",
    "        rewards = []\n",
    "        env = self.environment\n",
    "        if display:\n",
    "            env = self.env_render\n",
    "\n",
    "        # Reset the environment and start the episode.\n",
    "        (obs, info) = env.reset()\n",
    "        for i in range(self.max_len):\n",
    "            # Get the current observation, run the policy and select an action.\n",
    "            obs = torch.tensor(obs)\n",
    "            if test:\n",
    "                (action, log_prob) = self.select_max_action(obs)\n",
    "            else:\n",
    "                (action, log_prob) = self.select_action(obs)\n",
    "            observations.append(obs)\n",
    "            actions.append(action)\n",
    "            log_probs.append(log_prob)\n",
    "\n",
    "            # Advance the episode by executing the selected action.\n",
    "            (obs, reward, term, trunc, info) = env.step(action)\n",
    "            rewards.append(reward)\n",
    "            if term or trunc:\n",
    "                break\n",
    "        return (observations, actions, torch.cat(log_probs), rewards)\n",
    "\n",
    "    # Implementation of the REINFORCE policy gradient algorithm. It does not require any argument, because the\n",
    "    # parameters needed to run the algorithm are wrapped within the class as attributes.\n",
    "    def reinforce(self):\n",
    "        # We use Adam instead of SGD.\n",
    "        opt = torch.optim.Adam(self.policy.parameters(), lr=self.learning_rate)\n",
    "\n",
    "        # Track episode rewards in a list.\n",
    "        running_rewards = [0.0]\n",
    "\n",
    "        # The main training loop.\n",
    "        self.policy.train()\n",
    "        for episode in range(self.num_episodes):\n",
    "            # Run an episode of the environment, collect everything needed for policy update.\n",
    "            (observations, actions, log_probs, rewards) = self.run_episode()\n",
    "\n",
    "            # Compute the discounted reward for every step of the episode.\n",
    "            returns = torch.tensor(self.compute_returns(rewards), dtype=torch.float32)\n",
    "\n",
    "            # Keep a running average of total discounted rewards for the whole episode.\n",
    "            running_reward = 0.05 * returns[0].item() + 0.95 * running_rewards[-1]\n",
    "            running_rewards.append(running_reward)\n",
    "\n",
    "            # Standardize returns.\n",
    "            returns = (returns - returns.mean()) / returns.std()\n",
    "\n",
    "            # Make an optimization step\n",
    "            opt.zero_grad()\n",
    "            loss = (-log_probs * returns).mean()\n",
    "            loss.backward()\n",
    "            opt.step()\n",
    "\n",
    "            metrics = {\"Policy Loss\": loss,\n",
    "                       \"Running Reward\": running_reward}\n",
    "            wandb.log({**metrics}) \n",
    "\n",
    "            # Render an episode after every 100 policy updates.\n",
    "            if not episode % 100:\n",
    "                self.policy.eval()\n",
    "                (obs, _, _, _) = self.run_episode(display=True)\n",
    "                self.policy.train()\n",
    "                print(f'Running reward: {running_rewards[-1]}')\n",
    "\n",
    "        # Return the running rewards.\n",
    "        self.policy.eval()\n",
    "        return (running_rewards)"
   ]
  },
  {
   "cell_type": "markdown",
   "id": "0c37296a",
   "metadata": {},
   "source": [
    "### Runs of REINFORCE\n",
    "Once an object of the Reinforce class is instantiated, running the reinforce method trains the policy network on Cartpole environment. For subsequent testing, 20 episodes are executed by selecting actions with the highest probability, according to the last policy network trained. The average reward for each episode is observed.\n",
    "\n",
    "The hyperparameters have been choosen empirically (mainly temperature, gamma and hidden layer size), I will not report runs that I used to decide their values. Since training the policy is stochastic, for each setting I performed the policy training 5 times, and then in the reports I reported the metrics of interest in a graphic with mean curve and standard variance.\n",
    "\n",
    "These guidelines remain valid for the subsequent runs with the updated versions of REINFORCE."
   ]
  },
  {
   "cell_type": "code",
   "execution_count": null,
   "id": "92cd8472-e157-4463-bbc7-2ef88cded62c",
   "metadata": {
    "id": "92cd8472-e157-4463-bbc7-2ef88cded62c",
    "outputId": "5e7350ee-ec24-45cf-e515-e062c98a7f8f",
    "scrolled": true
   },
   "outputs": [],
   "source": [
    "# Your code here. You should be able to train an agent to solve Cartpole. This will be our starting point.\n",
    "\n",
    "n_run = 5\n",
    "seeds = [11, 111, 1111, 11111, 111111]\n",
    "val_seeds = [22, 222, 22222, 22222, 222222]\n",
    "\n",
    "for i in range(n_run):\n",
    "\n",
    "    # Instantiate a rendering and a non rendering environment\n",
    "    env_render = gym.make('CartPole-v1', render_mode='human')\n",
    "    env = gym.make('CartPole-v1')\n",
    "\n",
    "    torch.manual_seed(seeds[i])\n",
    "    env_render.reset(seed = val_seeds[i])\n",
    "    env.reset(seed = seeds[i])\n",
    "\n",
    "    # Track run\n",
    "    run = wandb.init(\n",
    "          # Set the project where this run will be logged\n",
    "          project=\"Lab3-Submission\",\n",
    "          # Pass a run name\n",
    "          name=f\"Reinforce\",\n",
    "          # Track hyperparameters and run metadata\n",
    "          config={\n",
    "          \"learning_rate\": 1e-2,\n",
    "          \"architecture\": \"REINFORCE\",\n",
    "          \"dataset\": \"CartPole\",\n",
    "          \"episodes\": 2000,\n",
    "          \"gamma\": 0.99,\n",
    "          \"episode_max_len\": 500,\n",
    "          \"temperature\": 20})\n",
    "\n",
    "    # Make a policy network.\n",
    "    policy = PolicyNet(env, T=run.config[\"temperature\"]) # Hidden layer size: 128\n",
    "\n",
    "    # Train the agent.\n",
    "    r = Reinforce(policy, env, env_render, gamma=run.config[\"gamma\"], num_episodes=run.config[\"episodes\"],\n",
    "                  lr=run.config[\"learning_rate\"], max_len=run.config[\"episode_max_len\"])\n",
    "    (rewards) = r.reinforce()\n",
    "    #plt.plot(rewards)\n",
    "\n",
    "    wandb.finish()\n",
    "\n",
    "    # Close up everything\n",
    "    env_render.close()\n",
    "    env.close()"
   ]
  },
  {
   "cell_type": "code",
   "execution_count": 9,
   "id": "7d9ba929-4270-4ff8-9a04-75f064b3fa23",
   "metadata": {
    "id": "7d9ba929-4270-4ff8-9a04-75f064b3fa23",
    "outputId": "d546dd32-2673-46d7-dd47-26bf037e7dab"
   },
   "outputs": [
    {
     "name": "stdout",
     "output_type": "stream",
     "text": [
      "Average reward for episode: 500.0\n"
     ]
    }
   ],
   "source": [
    "# And run the final agent for a few episodes.\n",
    "env_render = gym.make('CartPole-v1', render_mode='human')\n",
    "env_render.reset(seed = 100)\n",
    "r.setEnvRender(env_render)\n",
    "\n",
    "total_rewards = 0\n",
    "for _ in range(20):\n",
    "    (_, _, _, rewards) = r.run_episode(display=True, test=True) # Deterministic selected action\n",
    "    total_rewards += np.sum(rewards)\n",
    "average_test_reward = total_rewards / 20\n",
    "print(f'Average reward for episode: {average_test_reward}')\n",
    "env_render.close()"
   ]
  },
  {
   "cell_type": "markdown",
   "id": "750538e9",
   "metadata": {},
   "source": [
    "### wandb Reinforce Report\n",
    "https://wandb.ai/dla-labs/Lab3-Submission/reports/Reinforce-Report--Vmlldzo5MTQ5OTYx\n",
    "\n",
    "Observing the graphs, we notice that with temperature=20 and gamma=0.99 the training is extremely stable. The loss rarely deviates from 0, while the running reward stabilizes at high values after the first few episodes. The gamma value indicates the importance of future steps for the Cartpole environment.\n",
    "\n",
    "Empirically I saw that the temperature could have been lowered to achieve even greater stability, but I chose to keep it at 20 to avoid an overly optimal configuration, especially since gamma is still the more impactful parameter of the two.\n",
    "\n",
    "From the testing, we observe that each episode achieved the maximum reward, indicating that the training was successful."
   ]
  },
  {
   "cell_type": "markdown",
   "id": "18b8a90f-78ed-4f43-9d66-aeba7c74fe2c",
   "metadata": {
    "id": "18b8a90f-78ed-4f43-9d66-aeba7c74fe2c"
   },
   "source": [
    "**Last Things Last**: My implementation does a **super crappy** job of evaluating the agent performance during training. The running average is not a very good metric. Modify my implementation so that every $N$ iterations (make $N$ an argument to the training function) the agent is run for $M$ episodes in the environment. Collect and return: (1) The average **total** reward received over the $M$ iterations; and (2) the average episode length. Analyze the performance of your agents with these new metrics."
   ]
  },
  {
   "cell_type": "markdown",
   "id": "15f3dd29",
   "metadata": {},
   "source": [
    "### ReinforceAvg\n",
    "The class extends Reinforce and implements the requirements mentioned above.\n",
    "Two attributes have been added: N and eval_episodes.\n",
    "The methods run_episode and reinforce have been overridden to implement the new required functionalities."
   ]
  },
  {
   "cell_type": "code",
   "execution_count": 10,
   "id": "f787adb5-e925-4e10-b3f7-b4dc2f7fe6d9",
   "metadata": {
    "id": "f787adb5-e925-4e10-b3f7-b4dc2f7fe6d9"
   },
   "outputs": [],
   "source": [
    "class ReinforceAvg(Reinforce):\n",
    "    def __init__(self, policy, env, env_render=None, gamma=0.99, num_episodes=10, lr=1e-2,\n",
    "                 max_len=500, N=100, eval_episodes=10):\n",
    "        super().__init__(policy, env, env_render, gamma, num_episodes, lr, max_len)\n",
    "        self.N = N\n",
    "        self.M = eval_episodes\n",
    "\n",
    "    # Override to collect also episode length\n",
    "    def run_episode(self, display=False, test=False):\n",
    "        # Collect just about everything.\n",
    "        observations = []\n",
    "        actions = []\n",
    "        log_probs = []\n",
    "        rewards = []\n",
    "        env = self.environment\n",
    "        if display:\n",
    "            env = self.env_render\n",
    "\n",
    "        # Reset the environment and start the episode.\n",
    "        (obs, info) = env.reset()\n",
    "        for i in range(self.max_len):\n",
    "            # Get the current observation, run the policy and select an action.\n",
    "            obs = torch.tensor(obs)\n",
    "            if test:\n",
    "                (action,log_prob) = self.select_max_action(obs)\n",
    "            else:\n",
    "                (action, log_prob) = self.select_action(obs)\n",
    "            observations.append(obs)\n",
    "            actions.append(action)\n",
    "            log_probs.append(log_prob)\n",
    "\n",
    "            # Advance the episode by executing the selected action.\n",
    "            (obs, reward, term, trunc, info) = env.step(action)\n",
    "            rewards.append(reward)\n",
    "            if term or trunc:\n",
    "                break\n",
    "        length = i + 1\n",
    "        return (observations, actions, torch.cat(log_probs), rewards, length)\n",
    "\n",
    "    def reinforce(self):\n",
    "        # We use Adam instead of SGD.\n",
    "        opt = torch.optim.Adam(self.policy.parameters(), lr=self.learning_rate)\n",
    "\n",
    "        # Track episode rewards, average rewards and average episode lengths in 3 lists.\n",
    "        running_rewards = [0.0]\n",
    "        average_rewards = []\n",
    "        average_lengths = []\n",
    "\n",
    "        # The main training loop.\n",
    "        self.policy.train()\n",
    "        for episode in range(self.num_episodes):\n",
    "            # Run an episode of the environment, collect everything needed for policy update.\n",
    "            (observations, actions, log_probs, rewards, length) = self.run_episode()\n",
    "\n",
    "            # Compute the discounted reward for every step of the episode.\n",
    "            returns = torch.tensor(self.compute_returns(rewards), dtype=torch.float32)\n",
    "\n",
    "            # Keep a running average of total discounted rewards for the whole episode.\n",
    "            running_reward = 0.05 * returns[0].item() + 0.95 * running_rewards[-1]\n",
    "            running_rewards.append(running_reward)\n",
    "\n",
    "            # Standardize returns.\n",
    "            returns = (returns - returns.mean()) / returns.std()\n",
    "\n",
    "            # Make an optimization step\n",
    "            opt.zero_grad()\n",
    "            loss = (-log_probs * returns).mean()\n",
    "            loss.backward()\n",
    "            opt.step()\n",
    "\n",
    "            metrics = {\"Policy Loss\": loss,\n",
    "                       \"Running Reward\": running_reward}\n",
    "            wandb.log({**metrics})\n",
    "\n",
    "            # Render M episodes after every N policy updates.\n",
    "            if not episode % self.N:\n",
    "                self.policy.eval()\n",
    "                total_reward = 0\n",
    "                total_length = 0\n",
    "                for _ in range(self.M):\n",
    "                    (_, _, _, rewards, length) = self.run_episode()\n",
    "                    total_reward += np.sum(rewards)\n",
    "                    total_length += length\n",
    "                average_reward = total_reward / self.M\n",
    "                average_rewards.append(average_reward)\n",
    "                print(f'Average Total: {average_reward}')\n",
    "                average_length = total_length / self.M\n",
    "                average_lengths.append(average_length)\n",
    "                print(f'Average Length: {average_length}')\n",
    "\n",
    "                val_metrics = {\"Average Total Reward\": average_reward,\n",
    "                               \"Average Length\": average_length}\n",
    "                wandb.log({**val_metrics})\n",
    "\n",
    "                (obs, _, _, _, _) = self.run_episode(display=True)\n",
    "                self.policy.train()\n",
    "                print(f'Running reward: {running_rewards[-1]}')\n",
    "\n",
    "        # Return the running rewards.\n",
    "        self.policy.eval()\n",
    "        return (running_rewards, average_rewards, average_lengths)"
   ]
  },
  {
   "cell_type": "markdown",
   "id": "e94c206f",
   "metadata": {},
   "source": [
    "### Runs of ReinforceAvg"
   ]
  },
  {
   "cell_type": "code",
   "execution_count": null,
   "id": "31f5ca44-81a8-4b06-b844-71124f49ef9a",
   "metadata": {
    "id": "31f5ca44-81a8-4b06-b844-71124f49ef9a",
    "outputId": "d55557d0-a0a7-4697-e67d-56d8ac5a2153",
    "scrolled": true
   },
   "outputs": [],
   "source": [
    "for i in range(n_run):\n",
    "\n",
    "    # Instantiate a rendering and a non rendering environment\n",
    "    env_render = gym.make('CartPole-v1', render_mode='human')\n",
    "    env = gym.make('CartPole-v1')\n",
    "\n",
    "    torch.manual_seed(seeds[i])\n",
    "    env_render.reset(seed = val_seeds[i])\n",
    "    env.reset(seed = seeds[i])\n",
    "\n",
    "    run = wandb.init(\n",
    "          # Set the project where this run will be logged\n",
    "          project=\"Lab3-Final\",\n",
    "          # Pass a run name\n",
    "          name=f\"ReinforceAvg\",\n",
    "          # Track hyperparameters and run metadata\n",
    "          config={\n",
    "          \"learning_rate\": 1e-2,\n",
    "          \"architecture\": \"REINFORCE_AVG\",\n",
    "          \"dataset\": \"CartPole\",\n",
    "          \"episodes\": 2000,\n",
    "          \"gamma\": 0.99,\n",
    "          \"episode_max_len\": 500,\n",
    "          \"N\": 100,\n",
    "          \"temperature\": 20,\n",
    "          \"M\": 10})\n",
    "    \n",
    "    # Make a policy network.\n",
    "    policy = PolicyNet(env, T=run.config[\"temperature\"])\n",
    "\n",
    "    # Train the agent.\n",
    "    r = ReinforceAvg(policy, env, env_render, gamma=run.config[\"gamma\"], num_episodes=run.config[\"episodes\"],\n",
    "                  lr=run.config[\"learning_rate\"], max_len=run.config[\"episode_max_len\"],\n",
    "                     N=run.config[\"N\"], eval_episodes=run.config[\"M\"])\n",
    "    (total, average, length) = r.reinforce()\n",
    "\n",
    "    #plt.plot(total)\n",
    "    #plt.title('Average Discounted Rewards')\n",
    "    #plt.figure()\n",
    "    #plt.plot(average)\n",
    "    #plt.title('Average Total Rewards')\n",
    "    #plt.figure()\n",
    "    #plt.plot(length)\n",
    "    #plt.title('Average Episode Length')\n",
    "    #plt.figure()\n",
    "\n",
    "    wandb.finish()\n",
    "\n",
    "    # Close up everything\n",
    "    env_render.close()\n",
    "    env.close()"
   ]
  },
  {
   "cell_type": "code",
   "execution_count": 13,
   "id": "2cd7e2ea-a1c3-40fb-838e-418b9ebd0d2f",
   "metadata": {
    "id": "2cd7e2ea-a1c3-40fb-838e-418b9ebd0d2f"
   },
   "outputs": [
    {
     "name": "stdout",
     "output_type": "stream",
     "text": [
      "Average reward for episode: 500.0\n"
     ]
    }
   ],
   "source": [
    "# And run the final agent for a few episodes.\n",
    "env_render = gym.make('CartPole-v1', render_mode='human')\n",
    "env_render.reset(seed = 100)\n",
    "r.setEnvRender(env_render)\n",
    "\n",
    "total_rewards = 0\n",
    "for _ in range(20):\n",
    "    (_, _, _, rewards, _) = r.run_episode(display=True, test=True) # Deterministic selected action\n",
    "    total_rewards += np.sum(rewards)\n",
    "average_test_reward = total_rewards / 20\n",
    "print(f'Average reward for episode: {average_test_reward}')\n",
    "env_render.close()"
   ]
  },
  {
   "cell_type": "markdown",
   "id": "f023d9ad",
   "metadata": {},
   "source": [
    "### wandb ReinforceAvg Report\n",
    "https://wandb.ai/dla-labs/Lab3-Final/reports/ReinforceAvg-Report--Vmlldzo5MTUwMDU5\n",
    "\n",
    "The two new metrics, average total reward and average total length, are identical because in the Cartpole environment the reward is increased by one for each step taken in the episode. Therefore, the total reward for each individual episode is equal to the episode's length.\n",
    "\n",
    "Looking at the average total reward, we notice that after the first few episodes, the curve stabilizes around 500 (the maximum value, as I set the maximum episode length to 500), except for a slight dip in the last episodes. This further confirms that the training was successful."
   ]
  },
  {
   "cell_type": "markdown",
   "id": "2a5adad7-759b-4000-925b-701f41fe6e97",
   "metadata": {
    "id": "2a5adad7-759b-4000-925b-701f41fe6e97"
   },
   "source": [
    "-----\n",
    "## Exercise 2: `REINFORCE` with a Value Baseline (warm up)\n",
    "\n",
    "In this exercise we will augment my implementation (or your own) of `REINFORCE` to subtract a baseline from the target in the update equation in order to stabilize (and hopefully speed-up) convergence. For now we will stick to the Cartpole environment.\n",
    "\n"
   ]
  },
  {
   "cell_type": "markdown",
   "id": "8cdd5bc3-a439-4d84-891b-f4a840331e07",
   "metadata": {
    "id": "8cdd5bc3-a439-4d84-891b-f4a840331e07"
   },
   "source": [
    "**First Things First**: Recall from the slides on Deep Reinforcement Learning that we can **subtract** any function that doesn't depend on the current action from the q-value without changing the (maximum of our) objecttive function $J$:  \n",
    "\n",
    "$$ \\nabla J(\\boldsymbol{\\theta}) \\propto \\sum_{s} \\mu(s) \\sum_a \\left( q_{\\pi}(s, a) - b(s) \\right) \\nabla \\pi(a \\mid s, \\boldsymbol{\\theta}) $$\n",
    "\n",
    "In `REINFORCE` this means we can subtract from our target $G_t$:\n",
    "\n",
    "$$ \\boldsymbol{\\theta}_{t+1} \\triangleq \\boldsymbol{\\theta}_t + \\alpha (G_t - b(S_t)) \\frac{\\nabla \\pi(A_t \\mid s, \\boldsymbol{\\theta})}{\\pi(A_t \\mid s, \\boldsymbol{\\theta})} $$\n",
    "\n",
    "Since we are only interested in the **maximum** of our objective, we can also **rescale** our target by any function that also doesn't depend on the action. A **simple baseline** which is even independent of the state -- that is, it is **constant** for each episode -- is to just **standardize rewards within the episode**. So, we **subtract** the average return and **divide** by the variance of returns:\n",
    "\n",
    "$$ \\boldsymbol{\\theta}_{t+1} \\triangleq \\boldsymbol{\\theta}_t + \\alpha \\left(\\frac{G_t - \\bar{G}}{\\sigma_G}\\right) \\nabla  \\pi(A_t \\mid s, \\boldsymbol{\\theta}) $$\n",
    "\n",
    "This baseline is **already** implemented in my implementation of `REINFORCE`. Experiment with and without this standardization baseline and compare the performance. We are going to do something more interesting."
   ]
  },
  {
   "cell_type": "markdown",
   "id": "6b6fb494",
   "metadata": {},
   "source": [
    "### ReinforceStd\n",
    "This class extends ReinforceAvg. \n",
    "The attribute baseline has been added to specify whether we want no baseline or a standardization baseline.\n",
    "The method reinforce has been overridden to implement the distinction between standardization and no baseline."
   ]
  },
  {
   "cell_type": "code",
   "execution_count": 14,
   "id": "faf5b245-9369-4ed9-b5f4-3a52bb975d3f",
   "metadata": {
    "id": "faf5b245-9369-4ed9-b5f4-3a52bb975d3f"
   },
   "outputs": [],
   "source": [
    "# Your code here. Modify your implementation of `REINFORCE` to optionally use the standardize baseline.\n",
    "\n",
    "class ReinforceStd(ReinforceAvg):\n",
    "    def __init__(self, policy, env, env_render=None, gamma=0.99, num_episodes=10, lr=1e-2,\n",
    "                 max_len=500, N=100, eval_episodes=10, baseline=None):\n",
    "        super().__init__(policy, env, env_render, gamma, num_episodes, lr, max_len, N, eval_episodes)\n",
    "        self.baseline = baseline\n",
    "\n",
    "    def reinforce(self):\n",
    "        # We use Adam instead of SGD.\n",
    "        opt = torch.optim.Adam(self.policy.parameters(), lr=self.learning_rate)\n",
    "\n",
    "        # Choose between standardization baseline or no baseline\n",
    "        if self.baseline == 'std':\n",
    "            print('Training agent with standardization baseline.')\n",
    "        else:\n",
    "            print('Training agent with no baseline.')\n",
    "\n",
    "        # Track episode rewards, average rewards and average lengths in 3 lists.\n",
    "        running_rewards = [0.0]\n",
    "        average_rewards = []\n",
    "        average_lengths = []\n",
    "\n",
    "        # The main training loop.\n",
    "        self.policy.train()\n",
    "        for episode in range(self.num_episodes):\n",
    "            # Run an episode of the environment, collect everything needed for policy update.\n",
    "            (observations, actions, log_probs, rewards, length) = self.run_episode()\n",
    "\n",
    "            # Compute the discounted reward for every step of the episode.\n",
    "            returns = torch.tensor(self.compute_returns(rewards), dtype=torch.float32)\n",
    "\n",
    "            # Keep a running average of total discounted rewards for the whole episode.\n",
    "            running_reward = 0.05 * returns[0].item() + 0.95 * running_rewards[-1]\n",
    "            running_rewards.append(running_reward)\n",
    "\n",
    "            # Handle baseline.\n",
    "            if self.baseline == 'std':\n",
    "                target = (returns - returns.mean()) / returns.std()\n",
    "            else:\n",
    "                target = returns\n",
    "\n",
    "            # Make an optimization step\n",
    "            opt.zero_grad()\n",
    "\n",
    "            # Update policy network\n",
    "            loss = (-log_probs * target).mean()\n",
    "            loss.backward()\n",
    "            opt.step()\n",
    "\n",
    "            metrics = {\"Policy Loss\": loss,\n",
    "                       \"Running Reward\": running_reward}\n",
    "            wandb.log({**metrics})\n",
    "\n",
    "            # Render an episode after every 100 policy updates.\n",
    "            if not episode % self.N:\n",
    "                self.policy.eval()\n",
    "                total_reward = 0\n",
    "                total_length = 0\n",
    "                for _ in range(self.M):\n",
    "                    (_, _, _, rewards, length) = self.run_episode(display=True)\n",
    "                    total_reward += np.sum(rewards)\n",
    "                    total_length += length\n",
    "                average_reward = total_reward / self.M\n",
    "                average_rewards.append(average_reward)\n",
    "                print(f'Average Total: {average_reward}')\n",
    "                average_length = total_length / self.M\n",
    "                average_lengths.append(average_length)\n",
    "                print(f'Average Length: {average_length}')\n",
    "\n",
    "                val_metrics = {\"Average Total Reward\": average_reward,\n",
    "                               \"Average Length\": average_length}\n",
    "                wandb.log({**val_metrics})\n",
    "\n",
    "                (obs, _, _, _, _) = self.run_episode()\n",
    "                self.policy.train()\n",
    "                print(f'Running reward: {running_rewards[-1]}')\n",
    "\n",
    "        # Return the running rewards.\n",
    "        self.policy.eval()\n",
    "        return (running_rewards, average_rewards, average_lengths)"
   ]
  },
  {
   "cell_type": "markdown",
   "id": "a148079f",
   "metadata": {},
   "source": [
    "### ReinforceStd runs\n",
    "The expectations are that without the standardization baseline, the training will be less stable."
   ]
  },
  {
   "cell_type": "code",
   "execution_count": null,
   "id": "3668bb3d-fbc9-4e0e-9bab-77a3116a6432",
   "metadata": {
    "id": "3668bb3d-fbc9-4e0e-9bab-77a3116a6432",
    "outputId": "1b101c52-86e7-4668-a8cd-aa58a2fcd54a",
    "scrolled": true
   },
   "outputs": [],
   "source": [
    "for i in range(n_run):\n",
    "\n",
    "    # Instantiate a rendering and a non-rendering environment.\n",
    "    env_render = gym.make('CartPole-v1', render_mode='human')\n",
    "    env = gym.make('CartPole-v1')\n",
    "\n",
    "    torch.manual_seed(seeds[i])\n",
    "    env_render.reset(seed = val_seeds[i])\n",
    "    env.reset(seed = seeds[i])\n",
    "\n",
    "    run = wandb.init(\n",
    "          # Set the project where this run will be logged\n",
    "          project=\"Lab3-Submission\",\n",
    "          # Pass a run name\n",
    "          name=f\"ReinforceStd\",\n",
    "          # Track hyperparameters and run metadata\n",
    "          config={\n",
    "          \"learning_rate\": 1e-2,\n",
    "          \"architecture\": \"REINFORCE_STD\",\n",
    "          \"dataset\": \"CartPole\",\n",
    "          \"episodes\": 2000,\n",
    "          \"gamma\": 0.99,\n",
    "          \"episode_max_len\": 500,\n",
    "          \"N\": 100,\n",
    "          \"temperature\": 20,\n",
    "          \"M\": 10,\n",
    "          \"baseline\": None})\n",
    "    \n",
    "    # Make a policy network.\n",
    "    policy = PolicyNet(env, T=run.config[\"temperature\"])\n",
    "\n",
    "    # Train the agent.\n",
    "    r = ReinforceStd(policy, env, env_render, gamma=run.config[\"gamma\"], num_episodes=run.config[\"episodes\"],\n",
    "                  lr=run.config[\"learning_rate\"], max_len=run.config[\"episode_max_len\"],\n",
    "                     N=run.config[\"N\"], eval_episodes=run.config[\"M\"], baseline=run.config[\"baseline\"])\n",
    "    (total, average, length) = r.reinforce()\n",
    "\n",
    "    #plt.plot(total)\n",
    "    #plt.title('Average Discounted Rewards')\n",
    "    #plt.figure()\n",
    "    #plt.plot(average)\n",
    "    #plt.title('Average Total Rewards')\n",
    "    #plt.figure()\n",
    "    #plt.plot(length)\n",
    "    #plt.title('Average Episode Length')\n",
    "    #plt.figure()\n",
    "\n",
    "    wandb.finish()\n",
    "\n",
    "    # Close up everything\n",
    "    env_render.close()\n",
    "    env.close()"
   ]
  },
  {
   "cell_type": "code",
   "execution_count": 17,
   "id": "cd2113e1-ddf3-4845-9efc-073f0376b627",
   "metadata": {
    "id": "cd2113e1-ddf3-4845-9efc-073f0376b627"
   },
   "outputs": [
    {
     "name": "stdout",
     "output_type": "stream",
     "text": [
      "Average reward for episode: 427.8\n"
     ]
    }
   ],
   "source": [
    "# And run the final agent for a few episodes.\n",
    "env_render = gym.make('CartPole-v1', render_mode='human')\n",
    "env_render.reset(seed = 100)\n",
    "r.setEnvRender(env_render)\n",
    "\n",
    "total_rewards = 0\n",
    "for _ in range(20):\n",
    "    (_, _, _, rewards, _) = r.run_episode(display=True, test=True) # Deterministic selected action\n",
    "    total_rewards += np.sum(rewards)\n",
    "average_test_reward = total_rewards / 20\n",
    "print(f'Average reward for episode: {average_test_reward}')\n",
    "env_render.close()"
   ]
  },
  {
   "cell_type": "markdown",
   "id": "14ba2a8b",
   "metadata": {},
   "source": [
    "### wandb ReinfoceStd Report\n",
    "https://wandb.ai/dla-labs/Lab3-Submission/reports/ReinforceStd-Report--Vmlldzo5MTQ5OTkx\n",
    "\n",
    "As expected, the training is much more unstable without the standardization baseline. For example, the average total reward rarely approaches the maximum value of 500, and when it does, it's only in the final episodes. Meanwhile, the loss remains relatively high, especially when compared to the Reinforce version with the standardization baseline (with the same hyperparameters configuration).\n",
    "\n",
    "The growth of the running reward is much slower and more irregular, and the fact that the agent received worse training is also confirmed by the evaluation results."
   ]
  },
  {
   "cell_type": "markdown",
   "id": "46cfde8e-f1c7-4d96-85e0-268f687e09df",
   "metadata": {
    "id": "46cfde8e-f1c7-4d96-85e0-268f687e09df"
   },
   "source": [
    "**The Real Exercise**: Standard practice is to use the state-value function $v(s)$ as a baseline. This is intuitively appealing -- we are more interested in updating out policy for returns that estimate the current **value** worse. Our new update becomes:\n",
    "\n",
    "$$ \\boldsymbol{\\theta}_{t+1} \\triangleq \\boldsymbol{\\theta}_t + \\alpha (G_t - \\tilde{v}(S_t \\mid \\mathbf{w})) \\frac{\\nabla \\pi(A_t \\mid s, \\boldsymbol{\\theta})}{\\pi(A_t \\mid s, \\boldsymbol{\\theta})} $$\n",
    "\n",
    "where $\\tilde{v}(s \\mid \\mathbf{w})$ is a **deep neural network** with parameters $w$ that estimates $v_\\pi(s)$. What neural network? Typically, we use the **same** network architecture as that of the Policy.\n",
    "\n",
    "**Your Task**: Modify your implementation to fit a second, baseline network to estimate the value function and use it as **baseline**."
   ]
  },
  {
   "cell_type": "markdown",
   "id": "5467c09a",
   "metadata": {},
   "source": [
    "### Baseline Network\n",
    "A simple network with the same architecture as the Policy Net that has to learn to estimate the value function."
   ]
  },
  {
   "cell_type": "code",
   "execution_count": 18,
   "id": "6c4de4e3",
   "metadata": {},
   "outputs": [],
   "source": [
    "class BaselineNet(nn.Module):\n",
    "    def __init__(self, env, inner_size=128):\n",
    "        super().__init__()\n",
    "        self.fc1 = nn.Linear(env.observation_space.shape[0], inner_size)\n",
    "        self.fc2 = nn.Linear(inner_size, 1)\n",
    "        self.relu = nn.ReLU()\n",
    "\n",
    "    def forward(self, s):\n",
    "        s = F.relu(self.fc1(s))\n",
    "        s = self.fc2(s)\n",
    "        return s"
   ]
  },
  {
   "cell_type": "markdown",
   "id": "0a7433b5",
   "metadata": {},
   "source": [
    "### ReinfoceBas\n",
    "The class extends ReinforceStd. Since we are now also considering baselines that can be neural networks, an additional attribute, lrb, has been added to indicate the learning rate of the Baseline Network. The methods select_action, run_episode and reinforce have been overridden to implement the eventual usage of a Baseline Network.\n",
    "\n",
    "If there is a baseline, the policy loss, that is used to optimize the policy, is calculated with the target value. If the baseline is a Neural Network it is also optimized using its loss (how closely it approximates the value function)."
   ]
  },
  {
   "cell_type": "code",
   "execution_count": 26,
   "id": "0894204b-726d-4573-b549-ac5406bcde19",
   "metadata": {
    "id": "0894204b-726d-4573-b549-ac5406bcde19"
   },
   "outputs": [],
   "source": [
    "class ReinforceBas(ReinforceStd):\n",
    "    def __init__(self, policy, env, env_render=None, gamma=0.99, num_episodes=10, lr=1e-2,\n",
    "                 max_len=500, N=100, eval_episodes=10, baseline=None, lrb=1e-2):\n",
    "        super().__init__(policy, env, env_render, gamma, num_episodes, lr, \n",
    "                         max_len, N, eval_episodes, baseline)\n",
    "        self.learning_rate_baseline = lrb\n",
    "\n",
    "    def select_action(self, obs):\n",
    "        value = self.baseline(obs)\n",
    "        value.compute_grad = True\n",
    "        dist = Categorical(self.policy(obs))\n",
    "        action = dist.sample()\n",
    "        log_prob = dist.log_prob(action)\n",
    "        return (action.item(), log_prob.reshape(1), value)\n",
    "\n",
    "    def select_max_action(self, obs):\n",
    "        value = self.baseline(obs)\n",
    "        value.compute_grad = True\n",
    "        probs = self.policy(obs)\n",
    "        action = torch.argmax(probs)\n",
    "        log_prob = torch.log(torch.max(probs))\n",
    "        return(action.item(), log_prob.reshape(1), value)\n",
    "\n",
    "    # Given an environment and a policy, run it up to the maximum number of steps.\n",
    "    def run_episode(self, display=False, test=False):\n",
    "        # Collect just about everything.\n",
    "        observations = []\n",
    "        actions = []\n",
    "        log_probs = []\n",
    "        rewards = []\n",
    "        values = []\n",
    "        env = self.environment\n",
    "        if display:\n",
    "            env = self.env_render\n",
    "\n",
    "        # Reset the environment and start the episode.\n",
    "        (obs, info) = env.reset()\n",
    "        for i in range(self.max_len):\n",
    "            # Get the current observation, run the policy and select an action.\n",
    "            obs = torch.tensor(obs)\n",
    "            if test:\n",
    "                (action, log_prob, value) = self.select_max_action(obs)\n",
    "            else:\n",
    "                (action, log_prob, value) = self.select_action(obs)\n",
    "            observations.append(obs)\n",
    "            actions.append(action)\n",
    "            log_probs.append(log_prob)\n",
    "            values.append(value)\n",
    "\n",
    "            # Advance the episode by executing the selected action.\n",
    "            (obs, reward, term, trunc, info) = env.step(action)\n",
    "            rewards.append(reward)\n",
    "            if term or trunc:\n",
    "                break\n",
    "        length = i + 1\n",
    "        return (observations, actions, torch.cat(log_probs), rewards, length, values)\n",
    "\n",
    "    def reinforce(self):\n",
    "        # We use Adam instead of SGD.\n",
    "        opt = torch.optim.Adam(self.policy.parameters(), lr=self.learning_rate)\n",
    "\n",
    "        # If we have a baseline network, create the optimizer.\n",
    "        if isinstance(self.baseline, nn.Module):\n",
    "            opt_baseline = torch.optim.Adam(self.baseline.parameters(), lr=self.learning_rate_baseline)\n",
    "            self.baseline.train()\n",
    "            print('Training agent with baseline value network.')\n",
    "        elif self.baseline == 'std':\n",
    "            print('Training agent with standardization baseline.')\n",
    "        else:\n",
    "            print('Training agent with no baseline.')\n",
    "\n",
    "        # Track episode rewards, average rewards and average episode lengths in 3 lists.\n",
    "        running_rewards = [0.0]\n",
    "        average_rewards = []\n",
    "        average_lengths = []\n",
    "\n",
    "        # The main training loop.\n",
    "        self.policy.train()\n",
    "        for episode in range(self.num_episodes):\n",
    "            # Run an episode of the environment, collect everything needed for policy update.\n",
    "            (observations, actions, log_probs, rewards, length, values) = self.run_episode()\n",
    "\n",
    "            # Compute the discounted reward for every step of the episode.\n",
    "            returns = torch.tensor(self.compute_returns(rewards), dtype=torch.float32)\n",
    "            values =  torch.cat(values)\n",
    "\n",
    "            # Keep a running average of total discounted rewards for the whole episode.\n",
    "            running_reward = 0.05 * returns[0] + 0.95 * running_rewards[-1]\n",
    "            running_rewards.append(running_reward)\n",
    "\n",
    "            # Handle baseline.\n",
    "            if isinstance(self.baseline, nn.Module):\n",
    "                with torch.no_grad():\n",
    "                    target = returns - values\n",
    "            elif self.baseline == 'std':\n",
    "                target = (returns - returns.mean()) / returns.std()\n",
    "            else:\n",
    "                target = returns\n",
    "\n",
    "            # Make an optimization step\n",
    "            opt.zero_grad()\n",
    "\n",
    "            # Update policy network\n",
    "            loss = (-log_probs * target).mean()\n",
    "            loss.backward()\n",
    "            opt.step()\n",
    "\n",
    "            # Update baseline network.\n",
    "            if isinstance(self.baseline, nn.Module):\n",
    "                loss_baseline = F.mse_loss(values, returns)\n",
    "                opt_baseline.zero_grad()\n",
    "                loss_baseline.backward()\n",
    "                opt_baseline.step()\n",
    "\n",
    "                metrics = {\"Policy Loss\": loss,\n",
    "                           \"Running Reward\": running_reward,\n",
    "                           \"Baseline Loss\": loss_baseline}\n",
    "            else:\n",
    "              metrics = {\"Policy Loss\": loss,\n",
    "                         \"Running Reward\": running_reward}\n",
    "\n",
    "            wandb.log({**metrics})\n",
    "\n",
    "            # Render an episode after every 100 policy updates.\n",
    "            if not episode % self.N:\n",
    "                self.policy.eval()\n",
    "                total_reward = 0\n",
    "                total_length = 0\n",
    "                for _ in range(self.M):\n",
    "                    (_, _, _, rewards, length, values) = self.run_episode()\n",
    "                    total_reward += np.sum(rewards)\n",
    "                    total_length += length\n",
    "                average_reward = total_reward / self.M\n",
    "                average_rewards.append(average_reward)\n",
    "                print(f'Average Total: {average_reward}')\n",
    "                average_length = total_length / self.M\n",
    "                average_lengths.append(average_length)\n",
    "                print(f'Average Length: {average_length}')\n",
    "\n",
    "                val_metrics = {\"Average Total Reward\": average_reward,\n",
    "                               \"Average Length\": average_length}\n",
    "                wandb.log({**val_metrics})\n",
    "\n",
    "                (obs, _, _, _, _, _) = self.run_episode(display=True)\n",
    "                self.policy.train()\n",
    "                print(f'Running reward: {running_rewards[-1]}')\n",
    "\n",
    "        # Return the running rewards.\n",
    "        self.policy.eval()\n",
    "        if isinstance(self.baseline, nn.Module):\n",
    "            self.baseline.eval()\n",
    "        return (running_rewards, average_rewards, average_lengths)"
   ]
  },
  {
   "cell_type": "markdown",
   "id": "4c244e62",
   "metadata": {},
   "source": [
    "### ReinforceBas runs"
   ]
  },
  {
   "cell_type": "code",
   "execution_count": null,
   "id": "46f22722-e8f5-4ced-9614-1f4778d3e981",
   "metadata": {
    "id": "46f22722-e8f5-4ced-9614-1f4778d3e981",
    "outputId": "79bc023d-7cd0-44d6-81b3-6c9a6b1c392d",
    "scrolled": true
   },
   "outputs": [],
   "source": [
    "n_run = 5\n",
    "seeds = [11, 111, 1111, 11111, 111111]\n",
    "val_seeds = [22, 222, 22222, 22222, 222222]\n",
    "\n",
    "for i in range(n_run):\n",
    "\n",
    "    # Instantiate a rendering and a non-rendering environment.\n",
    "    env_render = gym.make('CartPole-v1', render_mode='human')\n",
    "    env = gym.make('CartPole-v1')\n",
    "\n",
    "    torch.manual_seed(seeds[i])\n",
    "    env_render.reset(seed = val_seeds[i])\n",
    "    env.reset(seed = seeds[i])\n",
    "\n",
    "    run = wandb.init(\n",
    "          # Set the project where this run will be logged\n",
    "          project=\"Lab3-Submission\",\n",
    "          # Pass a run name\n",
    "          name=f\"ReinforceBas\",\n",
    "          # Track hyperparameters and run metadata\n",
    "          config={\n",
    "          \"learning_rate\": 1e-2,\n",
    "          \"baaseline_learning_rate\":1e-2,\n",
    "          \"architecture\": \"REINFORCE_BAS\",\n",
    "          \"dataset\": \"CartPole\",\n",
    "          \"episodes\": 2000,\n",
    "          \"gamma\": 0.99,\n",
    "          \"episode_max_len\": 500,\n",
    "          \"N\": 100,\n",
    "          \"temperature\": 20,\n",
    "          \"M\": 10,\n",
    "          \"baseline\": \"BaselineNet\",\n",
    "          \"learning_rate_baseline\": 1e-2})\n",
    "\n",
    "    # Make a policy and a baseline network.\n",
    "    policy = PolicyNet(env, T=run.config[\"temperature\"])\n",
    "    baseline = BaselineNet(env)\n",
    "\n",
    "    # Train the agent.\n",
    "    r = ReinforceBas(policy, env, env_render, gamma=run.config[\"gamma\"], num_episodes=run.config[\"episodes\"],\n",
    "                  lr=run.config[\"learning_rate\"], max_len=run.config[\"episode_max_len\"],\n",
    "                     N=run.config[\"N\"], eval_episodes=run.config[\"M\"], baseline=baseline,\n",
    "                     lrb=run.config[\"learning_rate_baseline\"])\n",
    "    (total, average, length) = r.reinforce()\n",
    "\n",
    "    #plt.plot(total)\n",
    "    #plt.title('Average Discounted Rewards')\n",
    "    #plt.figure()\n",
    "    #plt.plot(average)\n",
    "    #plt.title('Average Total Rewards')\n",
    "    #plt.figure()\n",
    "    #plt.plot(length)\n",
    "    #plt.title('Average Episode Length')\n",
    "    #plt.figure()\n",
    "\n",
    "    wandb.finish()\n",
    "\n",
    "    # Close up everything\n",
    "    env_render.close()\n",
    "    env.close()"
   ]
  },
  {
   "cell_type": "code",
   "execution_count": 28,
   "id": "27c90b54-c5bb-4fea-b6ee-feff1c94253b",
   "metadata": {
    "id": "27c90b54-c5bb-4fea-b6ee-feff1c94253b"
   },
   "outputs": [
    {
     "name": "stdout",
     "output_type": "stream",
     "text": [
      "Average reward for episode: 470.8\n"
     ]
    }
   ],
   "source": [
    "# And run the final agent for a few episodes.\n",
    "env_render = gym.make('CartPole-v1', render_mode='human')\n",
    "env_render.reset(seed = 100)\n",
    "r.setEnvRender(env_render)\n",
    "\n",
    "total_rewards = 0\n",
    "for _ in range(20):\n",
    "    (_, _, _, rewards, _, _) = r.run_episode(display=True, test=True) # Deterministic selected action\n",
    "    total_rewards += np.sum(rewards)\n",
    "average_test_reward = total_rewards / 20\n",
    "print(f'Average reward for episode: {average_test_reward}')\n",
    "env_render.close()"
   ]
  },
  {
   "cell_type": "markdown",
   "id": "7ed1105d",
   "metadata": {},
   "source": [
    "### wandb ReinforceBas Report\n",
    "https://wandb.ai/dla-labs/Lab3-Submission/reports/ReinforceBas-Report--Vmlldzo5MTUyOTM1\n",
    "\n",
    "Observing the graphs, we notice that training with the baseline net is effective, although convergence appears slower compared to the standardization baseline. This conclusion is supported not only by a direct comparison of the graphs but also by the baseline loss graph, which seems to stabilize at lower values in the final episodes. \n",
    "\n",
    "This hypothesis is further confirmed by the testing results, where the average reward is 470. While this is better than not using a baseline, it still doesn't match the level of the standardization baseline. With longer training, the results would likely be even more comparable.\n",
    "\n",
    "Another possible explanation for the slower convergence could be the simplicity (the standardized mean of the discounted return seems like a very good approximation of the value function) of the problem since its convergence is incredibly fast and stable."
   ]
  },
  {
   "cell_type": "markdown",
   "id": "64bf1447-d222-4b24-a357-5b7f9824390c",
   "metadata": {
    "id": "64bf1447-d222-4b24-a357-5b7f9824390c"
   },
   "source": [
    "-----\n",
    "## Exercise 3: Going Deeper\n",
    "\n",
    "As usual, pick **AT LEAST ONE** of the following exercises to complete.\n",
    "\n",
    "### Exercise 3.2: Solving Cartpole and Lunar Lander with `Deep Q-Learning` (harder)\n",
    "\n",
    "On policy Deep Reinforcement Learning tends to be **very unstable**. Write an implementation (or adapt an existing one) of `Deep Q-Learning` to solve our two environments (Cartpole and Lunar Lander). To do this you will need to implement a **Replay Buffer** and use a second, slow-moving **target Q-Network** to stabilize learning.\n"
   ]
  },
  {
   "cell_type": "markdown",
   "id": "52d4714b-138c-466f-b2fa-9481e8838b56",
   "metadata": {},
   "source": [
    "Some other needed imports to run the code:"
   ]
  },
  {
   "cell_type": "code",
   "execution_count": 3,
   "id": "1e532d63-3d0b-47da-9dcf-b661de1eef99",
   "metadata": {},
   "outputs": [],
   "source": [
    "#Excercise 3.2\n",
    "\n",
    "import random\n",
    "from tqdm import trange\n",
    "from collections import namedtuple, deque\n",
    "\n",
    "device = \"cpu\""
   ]
  },
  {
   "cell_type": "markdown",
   "id": "5323fb40-0ca3-4e8a-8bcb-c316f52105d3",
   "metadata": {},
   "source": [
    "### DQN\n",
    "A Neural Network that takes in n_observations and tries to predict the expected return of taking each possible action given the current input."
   ]
  },
  {
   "cell_type": "code",
   "execution_count": 4,
   "id": "7b6e91b4-f33c-4c8b-8a49-db10517983c1",
   "metadata": {},
   "outputs": [],
   "source": [
    "class DQNet(nn.Module):\n",
    "    def __init__(self, n_obs, n_actions, inner_size=64):\n",
    "        super(DQNet, self).__init__()\n",
    "        self.layer1 = nn.Linear(n_obs, inner_size)\n",
    "        self.layer2 = nn.Linear(inner_size, inner_size)\n",
    "        self.layer3 = nn.Linear(inner_size, n_actions)\n",
    "\n",
    "    def forward(self, x):\n",
    "        x = F.relu(self.layer1(x))\n",
    "        x = F.relu(self.layer2(x))\n",
    "        return self.layer3(x)"
   ]
  },
  {
   "cell_type": "markdown",
   "id": "6e8a0b4a-cc6b-4744-afcb-c518d2af2ae1",
   "metadata": {},
   "source": [
    "### Replay Buffer\n",
    "It stores the transitions (observation, action, reward, next_state, done) that the agent observes, allowing us to reuse this data later. By sampling from it randomly, the transitions that build up a batch are decorrelated."
   ]
  },
  {
   "cell_type": "code",
   "execution_count": 5,
   "id": "5a096a18-a94f-4306-a099-d25eced320d4",
   "metadata": {},
   "outputs": [],
   "source": [
    "class ReplayBuffer():\n",
    "    def __init__(self, n_actions, memory_size, batch_size):\n",
    "        self.n_actions = n_actions\n",
    "        self.batch_size = batch_size\n",
    "        self.memory = deque(maxlen = memory_size)\n",
    "        self.transition = namedtuple(\"Transition\", \n",
    "                                     field_names=[\"observation\", \"action\", \"reward\", \"next_state\", \"done\"])\n",
    "\n",
    "    def __len__(self):\n",
    "        return len(self.memory)\n",
    "\n",
    "    def add(self, observation, action, reward, next_state, done):\n",
    "        t = self.transition(observation, action, reward, next_state, done)\n",
    "        self.memory.append(t)\n",
    "\n",
    "    def sample(self):\n",
    "        # Sample batch_size random transitions\n",
    "        transitions = random.sample(self.memory, k=self.batch_size)\n",
    "\n",
    "        observations = torch.from_numpy(np.vstack([t.observation for t in transitions if t is not None])).float().to(device)\n",
    "        actions = torch.from_numpy(np.vstack([t.action for t in transitions if t is not None])).long().to(device)\n",
    "        rewards = torch.from_numpy(np.vstack([t.reward for t in transitions if t is not None])).float().to(device)\n",
    "        next_states = torch.from_numpy(np.vstack([t.next_state for t in transitions if t is not None])).float().to(device)\n",
    "        dones = torch.from_numpy(np.vstack([t.done for t in transitions if t is not None]).astype(np.uint8)).float().to(device)\n",
    "\n",
    "        return (observations, actions, rewards, next_states, dones)"
   ]
  },
  {
   "cell_type": "markdown",
   "id": "99d895e5-2edc-4fad-a728-ec94f01d1b65",
   "metadata": {},
   "source": [
    "### DQN Agent\n",
    "* getAction() takes in input a state and a value for epsilon, it outputs an action by following an epsilon greedy policy.\n",
    "\n",
    "* save2memory() adds the current transition to the memory buffer, every learn_step transitions it calls the method learn.\n",
    "\n",
    "* learn() takes in input a batch from replay buffer and trains the DQN agent with MSE loss using temporal difference, Deep Q Learning.\n",
    "\n",
    "* softUpdate() updates the target network (the update depends on tau parameter)"
   ]
  },
  {
   "cell_type": "code",
   "execution_count": 6,
   "id": "ddbead52-9c01-4e5c-981e-df96f13fb6b6",
   "metadata": {},
   "outputs": [],
   "source": [
    "class DQN():\n",
    "    def __init__(self, n_obs, n_actions, batch_size=64, lr=1e-4, gamma=0.99, mem_size=int(1e5), learn_step=5, tau=1e-3):\n",
    "        self.n_obs = n_obs\n",
    "        self.n_actions = n_actions\n",
    "        self.batch_size = batch_size\n",
    "        self.gamma = gamma\n",
    "        self.learn_step = learn_step # Interval to update net_target\n",
    "        self.tau = tau\n",
    "\n",
    "        # Model\n",
    "        self.net_policy = DQNet(n_obs, n_actions).to(device)\n",
    "        self.net_target = DQNet(n_obs, n_actions).to(device)\n",
    "        self.net_target.load_state_dict(self.net_policy.state_dict())\n",
    "        self.optimizer = optim.Adam(self.net_policy.parameters(), lr=lr)\n",
    "        self.criterion = nn.MSELoss()\n",
    "\n",
    "        # Memory\n",
    "        self.memory = ReplayBuffer(n_actions, mem_size, batch_size)\n",
    "        self.counter = 0 # Reset cycle counter\n",
    "\n",
    "    def getAction(self, observation, epsilon):\n",
    "        observation = torch.from_numpy(observation).float().unsqueeze(0).to(device)\n",
    "\n",
    "        self.net_policy.eval()\n",
    "        with torch.no_grad():\n",
    "            action_values = self.net_policy(observation)\n",
    "        self.net_policy.train()\n",
    "\n",
    "        # Epsilon-greedy\n",
    "        if random.random() < epsilon:\n",
    "            action = random.choice(np.arange(self.n_actions))\n",
    "        else:\n",
    "            action = np.argmax(action_values.cpu().data.numpy())\n",
    "\n",
    "        return action\n",
    "\n",
    "    def save2memory(self, observation, action, reward, next_state, done):\n",
    "        self.memory.add(observation, action, reward, next_state, done)\n",
    "\n",
    "        self.counter += 1\n",
    "        if self.counter % self.learn_step == 0:\n",
    "            if len(self.memory) >= self.batch_size:\n",
    "                transitions = self.memory.sample()\n",
    "                self.learn(transitions)\n",
    "                # Until batch_size actions are not done, learning  will not start\n",
    "\n",
    "    def learn(self, transitions):\n",
    "        observations, actions, rewards, next_states, dones = transitions\n",
    "\n",
    "        q_target = self.net_target(next_states).detach().max(axis=1)[0].unsqueeze(1)\n",
    "        y_j = rewards + self.gamma * q_target * (1 - dones) # Target, if terminal then y_j = rewards\n",
    "        q_policy = self.net_policy(observations).gather(1, actions)\n",
    "\n",
    "        # Loss backprop\n",
    "        loss = self.criterion(q_policy, y_j)\n",
    "        self.optimizer.zero_grad()\n",
    "        loss.backward()\n",
    "        self.optimizer.step()\n",
    "\n",
    "        score = sum(rewards)\n",
    "        metrics = {\"Loss\": loss, \n",
    "                   \"Score\": score}\n",
    "        wandb.log({**metrics})\n",
    "        \n",
    "        # Soft update target network\n",
    "        self.softUpdate()\n",
    "\n",
    "    def softUpdate(self):\n",
    "        for policy_param, target_param in zip(self.net_policy.parameters(), self.net_target.parameters()):\n",
    "            target_param.data.copy_(self.tau*policy_param.data + (1.0-self.tau)*target_param.data)"
   ]
  },
  {
   "cell_type": "markdown",
   "id": "4a0bb5c3-8a4b-4f51-bd89-52cfbfd9808a",
   "metadata": {},
   "source": [
    "### Functions to train DQN agents with Deep Q-Learning and test them.\n",
    "\n",
    "If an agent has to learn the system, it needs to explore different actions and states. For an agent to perform well, it would need to select what it believes to be the optimal action for a particular state. The balance between the two is called the exploration-exploitation tradeoff.\n",
    "\n",
    "One way to achieve this balance is by encouraging the agent to explore more towards the beginning of training and slowly transition to selecting the optimal actions once it has estabilished reward values for most states. We set a variable called epsilon to decide wether the agent can explore by taking a random action or it should make a decision based on its q-value function.\n",
    "\n",
    "I implemented an early stop function which, when the average of the last 100 scores reach a target value (250), will stop the training process and plot the result."
   ]
  },
  {
   "cell_type": "code",
   "execution_count": 7,
   "id": "40ac5c44-bbfb-4277-9c26-0a0a0991f3e5",
   "metadata": {},
   "outputs": [],
   "source": [
    "def train(env, agent, n_episodes=2000, max_steps=1000, eps_start=1.0, eps_end=0.1, eps_decay=0.995, target=250):\n",
    "    score_hist = []\n",
    "    epsilon = eps_start\n",
    "\n",
    "    bar_format = '{l_bar}{bar:10}| {n:4}/{total_fmt} [{elapsed:>7}<{remaining:>7}, {rate_fmt}{postfix}]'\n",
    "    pbar = trange(n_episodes, unit=\"ep\", bar_format=bar_format, ascii=True)\n",
    "    for episode in pbar:\n",
    "        observation, _ = env.reset()\n",
    "        score = 0\n",
    "        done = False\n",
    "        for step in range(max_steps):\n",
    "            action = agent.getAction(observation, epsilon)\n",
    "            next_state, reward, terminated, truncated, _ = env.step(action)\n",
    "            if terminated or truncated:\n",
    "                done = True\n",
    "            agent.save2memory(observation, action, reward, next_state, done)\n",
    "            observation = next_state\n",
    "            score += reward\n",
    "\n",
    "            if done:\n",
    "                break\n",
    "\n",
    "        score_hist.append(score)\n",
    "        score_avg = np.mean(score_hist[-100:])\n",
    "        epsilon = max(eps_end, epsilon*eps_decay)\n",
    "\n",
    "        pbar.set_postfix_str(f\"Score: {score: 7.2f}, 100 score avg: {score_avg: 7.2f}\")\n",
    "        pbar.update(0)\n",
    "\n",
    "        # Early stop\n",
    "        if len(score_hist) >= 100:\n",
    "            if score_avg >= target:\n",
    "                break\n",
    "\n",
    "    if (episode+1) < n_episodes:\n",
    "        print(\"\\nTarget Reached!\")\n",
    "    else:\n",
    "        print(\"\\nDone!\")\n",
    "\n",
    "    return score_hist\n",
    "\n",
    "def test(env, agent, loops=3, max_steps=500):\n",
    "    scores = []\n",
    "    for i in range(loops):\n",
    "        observation, _ = env.reset()\n",
    "        done = False\n",
    "        score = 0\n",
    "        for step in range(max_steps):\n",
    "            action = agent.getAction(observation, epsilon=0)\n",
    "            #env.render()\n",
    "            observation, reward, terminated, truncated, _ = env.step(action)\n",
    "            score += reward\n",
    "            if terminated or truncated:\n",
    "                done = True\n",
    "            if done:\n",
    "                break\n",
    "        scores.append(score)\n",
    "    print(scores)\n",
    "    #env.close()\n",
    "    \n",
    "def plotScore(scores):\n",
    "    plt.figure()\n",
    "    plt.plot(scores)\n",
    "    plt.title(\"Score History\")\n",
    "    plt.xlabel(\"Episodes\")\n",
    "    plt.show()"
   ]
  },
  {
   "cell_type": "markdown",
   "id": "c7f7d682-eef0-4fd6-a08b-b6e174443c99",
   "metadata": {},
   "source": [
    "Functions to save test episodes in an environment's rendering as a GIF."
   ]
  },
  {
   "cell_type": "code",
   "execution_count": 8,
   "id": "77336ec3-9c28-4b8b-ab24-d4e4f39e4f13",
   "metadata": {},
   "outputs": [],
   "source": [
    "import os\n",
    "import imageio\n",
    "from PIL import Image, ImageDraw, ImageFont\n",
    "\n",
    "def TextOnImg(img, score):\n",
    "    img = Image.fromarray(img)\n",
    "    font = ImageFont.truetype('/Library/Fonts/arial.ttf', 18)\n",
    "    draw = ImageDraw.Draw(img)\n",
    "    draw.text((20, 20), f\"Score={score: .2f}\", font=font, fill=(255, 255, 255))\n",
    "\n",
    "    return np.array(img)\n",
    "\n",
    "def save_frames_as_gif(frames, filename, path=\"gifs/\"):\n",
    "    if not os.path.exists(path):\n",
    "        os.makedirs(path)\n",
    "        \n",
    "    print(\"Saving gif...\", end=\"\")\n",
    "    imageio.mimsave(path + filename + \".gif\", frames, fps=60)\n",
    "\n",
    "    print(\"Done!\")\n",
    "\n",
    "def gym2gif(env, agent, filename=\"gym_animation\", loops=3, max_steps=500):\n",
    "    frames = []\n",
    "    for i in range(loops):\n",
    "        observation, _ = env.reset()\n",
    "        score = 0\n",
    "        done = False\n",
    "        for step in range(max_steps):\n",
    "            action = agent.getAction(observation, epsilon=0)\n",
    "            frame = env.render()\n",
    "            frames.append(TextOnImg(frame, score))\n",
    "            observation, reward, terminated, truncated, _ = env.step(action)\n",
    "            if terminated or truncated:\n",
    "                done = True\n",
    "            score += reward\n",
    "            if done:\n",
    "                break\n",
    "        print(score)\n",
    "    save_frames_as_gif(frames, filename=filename)"
   ]
  },
  {
   "cell_type": "markdown",
   "id": "6a39d0fa-0a2a-428e-b5b4-2de51519a349",
   "metadata": {},
   "source": [
    "### Deep Q-Learning runs in LunarLander environment\n",
    "**LunarLander**: This environment is a classic rocket trajectory optimization problem. \n",
    "\n",
    "* There are four discrete actions available: do nothing, fire left orientation engine, fire main engine, fire right orientation engine. \n",
    "\n",
    "* The state is an 8-dimensional vector: the coordinates of the lander in x and y, its linear velocities in x and y, its angle, its angular velocity, and two booleans that represent whether each leg is in contact with the ground or not.\n",
    "\n",
    "* After every step a reward is granted, and the episode receive an additional reward of -100 or +100 points for crashing or landing safely respectively. An episode is considered a solution if it scores at least 200 points.\n",
    "\n",
    "* The lander starts at the top center of the viewport with a random initial force applied to its center of mass. The episode finishes if: the lander crashes (the lander body gets in contact with the moon); the lander gets outside of the viewport (x coordinate is greater than 1); the lander is not awake (doesn't move and doesn't collide with any other body).\n",
    "\n",
    "There will be 3 runs, trying to evaluate the impact for training of 2 parameters: gamma and the threshold related to the early stopping."
   ]
  },
  {
   "cell_type": "markdown",
   "id": "46416b1c",
   "metadata": {},
   "source": [
    "### Run with optimal values"
   ]
  },
  {
   "cell_type": "code",
   "execution_count": 9,
   "id": "4e3732d0-7f54-4588-9c7e-ca0ac4b13de9",
   "metadata": {},
   "outputs": [
    {
     "data": {
      "text/html": [
       "wandb version 0.17.8 is available!  To upgrade, please run:\n",
       " $ pip install wandb --upgrade"
      ],
      "text/plain": [
       "<IPython.core.display.HTML object>"
      ]
     },
     "metadata": {},
     "output_type": "display_data"
    },
    {
     "data": {
      "text/html": [
       "Tracking run with wandb version 0.16.6"
      ],
      "text/plain": [
       "<IPython.core.display.HTML object>"
      ]
     },
     "metadata": {},
     "output_type": "display_data"
    },
    {
     "data": {
      "text/html": [
       "Run data is saved locally in <code>C:\\Users\\Niccolò\\wandb\\run-20240829_105258-l81k7veo</code>"
      ],
      "text/plain": [
       "<IPython.core.display.HTML object>"
      ]
     },
     "metadata": {},
     "output_type": "display_data"
    },
    {
     "data": {
      "text/html": [
       "Syncing run <strong><a href='https://wandb.ai/dla-labs/Lab3-DQN-Submission/runs/l81k7veo' target=\"_blank\">DQN-LunarLander</a></strong> to <a href='https://wandb.ai/dla-labs/Lab3-DQN-Submission' target=\"_blank\">Weights & Biases</a> (<a href='https://wandb.me/run' target=\"_blank\">docs</a>)<br/>"
      ],
      "text/plain": [
       "<IPython.core.display.HTML object>"
      ]
     },
     "metadata": {},
     "output_type": "display_data"
    },
    {
     "data": {
      "text/html": [
       " View project at <a href='https://wandb.ai/dla-labs/Lab3-DQN-Submission' target=\"_blank\">https://wandb.ai/dla-labs/Lab3-DQN-Submission</a>"
      ],
      "text/plain": [
       "<IPython.core.display.HTML object>"
      ]
     },
     "metadata": {},
     "output_type": "display_data"
    },
    {
     "data": {
      "text/html": [
       " View run at <a href='https://wandb.ai/dla-labs/Lab3-DQN-Submission/runs/l81k7veo' target=\"_blank\">https://wandb.ai/dla-labs/Lab3-DQN-Submission/runs/l81k7veo</a>"
      ],
      "text/plain": [
       "<IPython.core.display.HTML object>"
      ]
     },
     "metadata": {},
     "output_type": "display_data"
    }
   ],
   "source": [
    "# LunarLander\n",
    "run = wandb.init(\n",
    "    # Set the project where this run will be logged\n",
    "    project=\"Lab3-DQN-Submission\",\n",
    "    # Pass a run name\n",
    "    name=f\"DQN-LunarLander\",\n",
    "    # Track hyperparameters and run metadata\n",
    "    config={\n",
    "    \"learning_rate\": 1e-3,\n",
    "    \"architecture\": \"DQN\",\n",
    "    \"dataset\": \"LunarLander\",\n",
    "    \"episodes\": 7000,\n",
    "    \"gamma\": 0.99, # Discount factor\n",
    "    \"batch_size\": 128,\n",
    "    \"target_score\": 250, # Early stop at avg score of last 100 episodes\n",
    "    \"C\": 5, # How often to learn\n",
    "    \"tau\": 1e-3, # For soft update of target parameters\n",
    "    \"memory_size\": 10000}) # Max memory buffer size"
   ]
  },
  {
   "cell_type": "code",
   "execution_count": 10,
   "id": "efcfefa1-af96-4600-9951-cc45817a57cd",
   "metadata": {},
   "outputs": [
    {
     "name": "stderr",
     "output_type": "stream",
     "text": [
      "<frozen importlib._bootstrap>:241: RuntimeWarning: Your system is avx2 capable but pygame was not built with support for it. The performance of some of your blits could be adversely affected. Consider enabling compile time detection with environment variables like PYGAME_DETECT_AVX2=1 if you are compiling without cross compilation.\n",
      " 37%|###6      | 2575/7000 [  40:33<1:09:42,  1.06ep/s, Score:  275.44, 100 score avg:  252.59]\n"
     ]
    },
    {
     "name": "stdout",
     "output_type": "stream",
     "text": [
      "\n",
      "Target Reached!\n"
     ]
    },
    {
     "data": {
      "image/png": "[encoded data removed]",
      "text/plain": [
       "<Figure size 640x480 with 1 Axes>"
      ]
     },
     "metadata": {},
     "output_type": "display_data"
    },
    {
     "data": {
      "text/html": [
       "<style>\n",
       "    table.wandb td:nth-child(1) { padding: 0 10px; text-align: left ; width: auto;} td:nth-child(2) {text-align: left ; width: 100%}\n",
       "    .wandb-row { display: flex; flex-direction: row; flex-wrap: wrap; justify-content: flex-start; width: 100% }\n",
       "    .wandb-col { display: flex; flex-direction: column; flex-basis: 100%; flex: 1; padding: 10px; }\n",
       "    </style>\n",
       "<div class=\"wandb-row\"><div class=\"wandb-col\"><h3>Run history:</h3><br/><table class=\"wandb\"><tr><td>Loss</td><td>▁▂▁▁▁▁▁▁▁▁▁▁▂▁▁▁▁▁▁▁▁▁▇▃▁▃▂█▁▅▁▁▁▁▁▂▁▂▁▁</td></tr><tr><td>Score</td><td>▁▄▁▄▃▄▃▃▃▃▄▄▃▃▇▃▅▅▄▄▆▆▃▇▇▃▇▄▄▅▇▄▃▅▅█▅▅▅▄</td></tr></table><br/></div><div class=\"wandb-col\"><h3>Run summary:</h3><br/><table class=\"wandb\"><tr><td>Loss</td><td>34.66173</td></tr><tr><td>Score</td><td>306.6662</td></tr></table><br/></div></div>"
      ],
      "text/plain": [
       "<IPython.core.display.HTML object>"
      ]
     },
     "metadata": {},
     "output_type": "display_data"
    },
    {
     "data": {
      "text/html": [
       " View run <strong style=\"color:#cdcd00\">DQN-LunarLander</strong> at: <a href='https://wandb.ai/dla-labs/Lab3-DQN-Submission/runs/l81k7veo' target=\"_blank\">https://wandb.ai/dla-labs/Lab3-DQN-Submission/runs/l81k7veo</a><br/> View project at: <a href='https://wandb.ai/dla-labs/Lab3-DQN-Submission' target=\"_blank\">https://wandb.ai/dla-labs/Lab3-DQN-Submission</a><br/>Synced 6 W&B file(s), 0 media file(s), 0 artifact file(s) and 0 other file(s)"
      ],
      "text/plain": [
       "<IPython.core.display.HTML object>"
      ]
     },
     "metadata": {},
     "output_type": "display_data"
    },
    {
     "data": {
      "text/html": [
       "Find logs at: <code>.\\wandb\\run-20240829_105258-l81k7veo\\logs</code>"
      ],
      "text/plain": [
       "<IPython.core.display.HTML object>"
      ]
     },
     "metadata": {},
     "output_type": "display_data"
    }
   ],
   "source": [
    "# Train the network\n",
    "env = gym.make('LunarLander-v2', render_mode=\"rgb_array\")\n",
    "env.reset(seed=1111)\n",
    "torch.manual_seed(1111)\n",
    "num_obs = env.observation_space.shape[0]\n",
    "num_actions = env.action_space.n\n",
    "agent = DQN(\n",
    "    n_obs = num_obs,\n",
    "    n_actions = num_actions,\n",
    "    batch_size = run.config[\"batch_size\"],\n",
    "    lr = run.config[\"learning_rate\"],\n",
    "    gamma = run.config[\"gamma\"],\n",
    "    mem_size = run.config[\"memory_size\"],\n",
    "    learn_step = run.config[\"C\"],\n",
    "    tau = run.config[\"tau\"],\n",
    "    )\n",
    "score_hist = train(env, agent, n_episodes=run.config[\"episodes\"], target=run.config[\"target_score\"])\n",
    "plotScore(score_hist)\n",
    "\n",
    "wandb.finish()"
   ]
  },
  {
   "cell_type": "code",
   "execution_count": 11,
   "id": "1e179d61-abaf-4126-a2fd-f5da58126f51",
   "metadata": {},
   "outputs": [
    {
     "name": "stdout",
     "output_type": "stream",
     "text": [
      "[293.726625806417, 170.63968433304566, 271.9092460746929, 194.3278768462256, 275.8490079343756, 306.7010611280572, 284.93777619858975, 244.73717250873472, 171.15194922806862, 279.9016614313198]\n",
      "157.90038684961135\n",
      "268.8123394500459\n",
      "283.5569730600418\n",
      "302.80377259566785\n",
      "269.978479647432\n",
      "Saving gif...Done!\n"
     ]
    }
   ],
   "source": [
    "# Test and save visual results as gif\n",
    "test(env, agent, loops=10)\n",
    "\n",
    "gym2gif(env, agent, filename=\"lunarLander_animation\", loops=5)\n",
    "env.close()"
   ]
  },
  {
   "cell_type": "markdown",
   "id": "f8a8c9c5",
   "metadata": {},
   "source": [
    "![llBase](lunarLander_animation.gif)"
   ]
  },
  {
   "cell_type": "markdown",
   "id": "9f66c0fa",
   "metadata": {},
   "source": [
    "### Run with smaller threshold for early stopping"
   ]
  },
  {
   "cell_type": "code",
   "execution_count": 18,
   "id": "6a7223ef",
   "metadata": {},
   "outputs": [
    {
     "data": {
      "text/html": [
       "wandb version 0.17.8 is available!  To upgrade, please run:\n",
       " $ pip install wandb --upgrade"
      ],
      "text/plain": [
       "<IPython.core.display.HTML object>"
      ]
     },
     "metadata": {},
     "output_type": "display_data"
    },
    {
     "data": {
      "text/html": [
       "Tracking run with wandb version 0.16.6"
      ],
      "text/plain": [
       "<IPython.core.display.HTML object>"
      ]
     },
     "metadata": {},
     "output_type": "display_data"
    },
    {
     "data": {
      "text/html": [
       "Run data is saved locally in <code>C:\\Users\\Niccolò\\wandb\\run-20240829_134019-hu1dqml2</code>"
      ],
      "text/plain": [
       "<IPython.core.display.HTML object>"
      ]
     },
     "metadata": {},
     "output_type": "display_data"
    },
    {
     "data": {
      "text/html": [
       "Syncing run <strong><a href='https://wandb.ai/dla-labs/Lab3-DQN-Submission/runs/hu1dqml2' target=\"_blank\">DQN-LunarLander200</a></strong> to <a href='https://wandb.ai/dla-labs/Lab3-DQN-Submission' target=\"_blank\">Weights & Biases</a> (<a href='https://wandb.me/run' target=\"_blank\">docs</a>)<br/>"
      ],
      "text/plain": [
       "<IPython.core.display.HTML object>"
      ]
     },
     "metadata": {},
     "output_type": "display_data"
    },
    {
     "data": {
      "text/html": [
       " View project at <a href='https://wandb.ai/dla-labs/Lab3-DQN-Submission' target=\"_blank\">https://wandb.ai/dla-labs/Lab3-DQN-Submission</a>"
      ],
      "text/plain": [
       "<IPython.core.display.HTML object>"
      ]
     },
     "metadata": {},
     "output_type": "display_data"
    },
    {
     "data": {
      "text/html": [
       " View run at <a href='https://wandb.ai/dla-labs/Lab3-DQN-Submission/runs/hu1dqml2' target=\"_blank\">https://wandb.ai/dla-labs/Lab3-DQN-Submission/runs/hu1dqml2</a>"
      ],
      "text/plain": [
       "<IPython.core.display.HTML object>"
      ]
     },
     "metadata": {},
     "output_type": "display_data"
    }
   ],
   "source": [
    "# LunarLander\n",
    "run = wandb.init(\n",
    "    # Set the project where this run will be logged\n",
    "    project=\"Lab3-DQN-Submission\",\n",
    "    # Pass a run name\n",
    "    name=f\"DQN-LunarLander200\",\n",
    "    # Track hyperparameters and run metadata\n",
    "    config={\n",
    "    \"learning_rate\": 1e-3,\n",
    "    \"architecture\": \"DQN\",\n",
    "    \"dataset\": \"LunarLander\",\n",
    "    \"episodes\": 7000,\n",
    "    \"gamma\": 0.99, # Discount factor\n",
    "    \"batch_size\": 128,\n",
    "    \"target_score\": 200, # Early stop at avg score of last 100 episodes\n",
    "    \"C\": 5, # How often to learn\n",
    "    \"tau\": 1e-3, # For soft update of target parameters\n",
    "    \"memory_size\": 10000}) # Max memory buffer size"
   ]
  },
  {
   "cell_type": "code",
   "execution_count": 19,
   "id": "622a4f42",
   "metadata": {},
   "outputs": [
    {
     "name": "stderr",
     "output_type": "stream",
     "text": [
      " 17%|#7        | 1203/7000 [  25:15<2:01:42,  1.26s/ep, Score:  265.86, 100 score avg:  200.00]\n"
     ]
    },
    {
     "name": "stdout",
     "output_type": "stream",
     "text": [
      "\n",
      "Target Reached!\n"
     ]
    },
    {
     "data": {
      "image/png": "[encoded data removed]",
      "text/plain": [
       "<Figure size 640x480 with 1 Axes>"
      ]
     },
     "metadata": {},
     "output_type": "display_data"
    },
    {
     "data": {
      "text/html": [
       "<style>\n",
       "    table.wandb td:nth-child(1) { padding: 0 10px; text-align: left ; width: auto;} td:nth-child(2) {text-align: left ; width: 100%}\n",
       "    .wandb-row { display: flex; flex-direction: row; flex-wrap: wrap; justify-content: flex-start; width: 100% }\n",
       "    .wandb-col { display: flex; flex-direction: column; flex-basis: 100%; flex: 1; padding: 10px; }\n",
       "    </style>\n",
       "<div class=\"wandb-row\"><div class=\"wandb-col\"><h3>Run history:</h3><br/><table class=\"wandb\"><tr><td>Loss</td><td>▄▄▂▁▂▁▁▁▁▁▁▁▁▁█▁▁▁▁▁▁▂▃▁▁▁▁▁▁▆▁▁▁▁▁▄▁▇▁▄</td></tr><tr><td>Score</td><td>▃▂▇▄▄▃▄▄▃▄▄▆▅▅▆▄▆▄▄▄▅▃▁▄▄▅▅▄▄▇▃▄▅▅▆▃▆▇██</td></tr></table><br/></div><div class=\"wandb-col\"><h3>Run summary:</h3><br/><table class=\"wandb\"><tr><td>Loss</td><td>1.97914</td></tr><tr><td>Score</td><td>35.73837</td></tr></table><br/></div></div>"
      ],
      "text/plain": [
       "<IPython.core.display.HTML object>"
      ]
     },
     "metadata": {},
     "output_type": "display_data"
    },
    {
     "data": {
      "text/html": [
       " View run <strong style=\"color:#cdcd00\">DQN-LunarLander200</strong> at: <a href='https://wandb.ai/dla-labs/Lab3-DQN-Submission/runs/hu1dqml2' target=\"_blank\">https://wandb.ai/dla-labs/Lab3-DQN-Submission/runs/hu1dqml2</a><br/> View project at: <a href='https://wandb.ai/dla-labs/Lab3-DQN-Submission' target=\"_blank\">https://wandb.ai/dla-labs/Lab3-DQN-Submission</a><br/>Synced 6 W&B file(s), 0 media file(s), 0 artifact file(s) and 0 other file(s)"
      ],
      "text/plain": [
       "<IPython.core.display.HTML object>"
      ]
     },
     "metadata": {},
     "output_type": "display_data"
    },
    {
     "data": {
      "text/html": [
       "Find logs at: <code>.\\wandb\\run-20240829_134019-hu1dqml2\\logs</code>"
      ],
      "text/plain": [
       "<IPython.core.display.HTML object>"
      ]
     },
     "metadata": {},
     "output_type": "display_data"
    }
   ],
   "source": [
    "# Train the network\n",
    "env = gym.make('LunarLander-v2', render_mode=\"rgb_array\")\n",
    "env.reset(seed=1111)\n",
    "torch.manual_seed(1111)\n",
    "num_obs = env.observation_space.shape[0]\n",
    "num_actions = env.action_space.n\n",
    "agent = DQN(\n",
    "    n_obs = num_obs,\n",
    "    n_actions = num_actions,\n",
    "    batch_size = run.config[\"batch_size\"],\n",
    "    lr = run.config[\"learning_rate\"],\n",
    "    gamma = run.config[\"gamma\"],\n",
    "    mem_size = run.config[\"memory_size\"],\n",
    "    learn_step = run.config[\"C\"],\n",
    "    tau = run.config[\"tau\"],\n",
    "    )\n",
    "score_hist = train(env, agent, n_episodes=run.config[\"episodes\"], target=run.config[\"target_score\"])\n",
    "plotScore(score_hist)\n",
    "\n",
    "wandb.finish()"
   ]
  },
  {
   "cell_type": "code",
   "execution_count": 20,
   "id": "20480059",
   "metadata": {},
   "outputs": [
    {
     "name": "stdout",
     "output_type": "stream",
     "text": [
      "[280.3736173643132, 194.74629265664515, 15.915626247481882, 260.99329876602235, 268.2861883101102, 246.83308652796794, 236.8543058835758, 293.13707212962595, 262.10170834885145, 242.73039886203932]\n",
      "266.6683516000987\n",
      "56.88363577059978\n",
      "262.45886842699525\n",
      "12.946995476177918\n",
      "257.2096707288616\n",
      "Saving gif...Done!\n"
     ]
    }
   ],
   "source": [
    "# Test and save visual results as gif\n",
    "test(env, agent, loops=10)\n",
    "\n",
    "gym2gif(env, agent, filename=\"lunarLander200_animation\", loops=5)\n",
    "env.close()"
   ]
  },
  {
   "cell_type": "markdown",
   "id": "11bbfaff",
   "metadata": {},
   "source": [
    "![llThreshold](lunarLander200_animation.gif)"
   ]
  },
  {
   "cell_type": "markdown",
   "id": "ecc799f2",
   "metadata": {},
   "source": [
    "### Run with suboptimal value of gamma"
   ]
  },
  {
   "cell_type": "code",
   "execution_count": 21,
   "id": "c37891f2",
   "metadata": {},
   "outputs": [
    {
     "data": {
      "text/html": [
       "wandb version 0.17.8 is available!  To upgrade, please run:\n",
       " $ pip install wandb --upgrade"
      ],
      "text/plain": [
       "<IPython.core.display.HTML object>"
      ]
     },
     "metadata": {},
     "output_type": "display_data"
    },
    {
     "data": {
      "text/html": [
       "Tracking run with wandb version 0.16.6"
      ],
      "text/plain": [
       "<IPython.core.display.HTML object>"
      ]
     },
     "metadata": {},
     "output_type": "display_data"
    },
    {
     "data": {
      "text/html": [
       "Run data is saved locally in <code>C:\\Users\\Niccolò\\wandb\\run-20240829_140647-a3fvztrq</code>"
      ],
      "text/plain": [
       "<IPython.core.display.HTML object>"
      ]
     },
     "metadata": {},
     "output_type": "display_data"
    },
    {
     "data": {
      "text/html": [
       "Syncing run <strong><a href='https://wandb.ai/dla-labs/Lab3-DQN-Submission/runs/a3fvztrq' target=\"_blank\">DQN-LunarLander200</a></strong> to <a href='https://wandb.ai/dla-labs/Lab3-DQN-Submission' target=\"_blank\">Weights & Biases</a> (<a href='https://wandb.me/run' target=\"_blank\">docs</a>)<br/>"
      ],
      "text/plain": [
       "<IPython.core.display.HTML object>"
      ]
     },
     "metadata": {},
     "output_type": "display_data"
    },
    {
     "data": {
      "text/html": [
       " View project at <a href='https://wandb.ai/dla-labs/Lab3-DQN-Submission' target=\"_blank\">https://wandb.ai/dla-labs/Lab3-DQN-Submission</a>"
      ],
      "text/plain": [
       "<IPython.core.display.HTML object>"
      ]
     },
     "metadata": {},
     "output_type": "display_data"
    },
    {
     "data": {
      "text/html": [
       " View run at <a href='https://wandb.ai/dla-labs/Lab3-DQN-Submission/runs/a3fvztrq' target=\"_blank\">https://wandb.ai/dla-labs/Lab3-DQN-Submission/runs/a3fvztrq</a>"
      ],
      "text/plain": [
       "<IPython.core.display.HTML object>"
      ]
     },
     "metadata": {},
     "output_type": "display_data"
    }
   ],
   "source": [
    "# LunarLander\n",
    "run = wandb.init(\n",
    "    # Set the project where this run will be logged\n",
    "    project=\"Lab3-DQN-Submission\",\n",
    "    # Pass a run name\n",
    "    name=f\"DQN-LunarLander05\",\n",
    "    # Track hyperparameters and run metadata\n",
    "    config={\n",
    "    \"learning_rate\": 1e-3,\n",
    "    \"architecture\": \"DQN\",\n",
    "    \"dataset\": \"LunarLander\",\n",
    "    \"episodes\": 5000,\n",
    "    \"gamma\": 0.5, # Discount factor\n",
    "    \"batch_size\": 128,\n",
    "    \"target_score\": 250, # Early stop at avg score of last 100 episodes\n",
    "    \"C\": 5, # How often to learn\n",
    "    \"tau\": 1e-3, # For soft update of target parameters\n",
    "    \"memory_size\": 10000}) # Max memory buffer size"
   ]
  },
  {
   "cell_type": "code",
   "execution_count": 22,
   "id": "ce8c4335",
   "metadata": {},
   "outputs": [
    {
     "name": "stderr",
     "output_type": "stream",
     "text": [
      "100%|##########| 5000/5000 [1:10:53<  00:00,  1.18ep/s, Score:  278.78, 100 score avg:  -58.29]\n"
     ]
    },
    {
     "name": "stdout",
     "output_type": "stream",
     "text": [
      "\n",
      "Done!\n"
     ]
    },
    {
     "data": {
      "image/png": "[encoded data removed]",
      "text/plain": [
       "<Figure size 640x480 with 1 Axes>"
      ]
     },
     "metadata": {},
     "output_type": "display_data"
    },
    {
     "data": {
      "text/html": [
       "<style>\n",
       "    table.wandb td:nth-child(1) { padding: 0 10px; text-align: left ; width: auto;} td:nth-child(2) {text-align: left ; width: 100%}\n",
       "    .wandb-row { display: flex; flex-direction: row; flex-wrap: wrap; justify-content: flex-start; width: 100% }\n",
       "    .wandb-col { display: flex; flex-direction: column; flex-basis: 100%; flex: 1; padding: 10px; }\n",
       "    </style>\n",
       "<div class=\"wandb-row\"><div class=\"wandb-col\"><h3>Run history:</h3><br/><table class=\"wandb\"><tr><td>Loss</td><td>▃▂▁▁▁▁▁▁▆▁▁█▁▁▁▁▄▁▁▁▁▁▁▂▄▂▁▆▂▁▁▂▁▁▁▁▆▁▁▁</td></tr><tr><td>Score</td><td>▅▅▆▅▅▆▇▆█▄▆▆▆▅▆▅▁▆▅▆▇▅▆▆▅▆▆▆▅▆▅▄▆▆▆▅▆▆▆▅</td></tr></table><br/></div><div class=\"wandb-col\"><h3>Run summary:</h3><br/><table class=\"wandb\"><tr><td>Loss</td><td>2.70005</td></tr><tr><td>Score</td><td>-23.21091</td></tr></table><br/></div></div>"
      ],
      "text/plain": [
       "<IPython.core.display.HTML object>"
      ]
     },
     "metadata": {},
     "output_type": "display_data"
    },
    {
     "data": {
      "text/html": [
       " View run <strong style=\"color:#cdcd00\">DQN-LunarLander200</strong> at: <a href='https://wandb.ai/dla-labs/Lab3-DQN-Submission/runs/a3fvztrq' target=\"_blank\">https://wandb.ai/dla-labs/Lab3-DQN-Submission/runs/a3fvztrq</a><br/> View project at: <a href='https://wandb.ai/dla-labs/Lab3-DQN-Submission' target=\"_blank\">https://wandb.ai/dla-labs/Lab3-DQN-Submission</a><br/>Synced 6 W&B file(s), 0 media file(s), 0 artifact file(s) and 0 other file(s)"
      ],
      "text/plain": [
       "<IPython.core.display.HTML object>"
      ]
     },
     "metadata": {},
     "output_type": "display_data"
    },
    {
     "data": {
      "text/html": [
       "Find logs at: <code>.\\wandb\\run-20240829_140647-a3fvztrq\\logs</code>"
      ],
      "text/plain": [
       "<IPython.core.display.HTML object>"
      ]
     },
     "metadata": {},
     "output_type": "display_data"
    }
   ],
   "source": [
    "# Train the network\n",
    "env = gym.make('LunarLander-v2', render_mode=\"rgb_array\")\n",
    "env.reset(seed=1111)\n",
    "torch.manual_seed(1111)\n",
    "num_obs = env.observation_space.shape[0]\n",
    "num_actions = env.action_space.n\n",
    "agent = DQN(\n",
    "    n_obs = num_obs,\n",
    "    n_actions = num_actions,\n",
    "    batch_size = run.config[\"batch_size\"],\n",
    "    lr = run.config[\"learning_rate\"],\n",
    "    gamma = run.config[\"gamma\"],\n",
    "    mem_size = run.config[\"memory_size\"],\n",
    "    learn_step = run.config[\"C\"],\n",
    "    tau = run.config[\"tau\"],\n",
    "    )\n",
    "score_hist = train(env, agent, n_episodes=run.config[\"episodes\"], target=run.config[\"target_score\"])\n",
    "plotScore(score_hist)\n",
    "\n",
    "wandb.finish()"
   ]
  },
  {
   "cell_type": "code",
   "execution_count": 23,
   "id": "a63995e4",
   "metadata": {},
   "outputs": [
    {
     "name": "stdout",
     "output_type": "stream",
     "text": [
      "[250.15174514260178, -197.02474140850077, -172.76044123202297, 210.13668614113658, -188.68168336520725, -47.65343027057334, -32.84712732791753, -175.43967941982342, 213.80047512187883, -26.037682004494215]\n",
      "262.88506116629173\n",
      "-49.2176833973718\n",
      "-221.8929180786268\n",
      "-14.345638172706515\n",
      "-197.43597294644997\n",
      "Saving gif...Done!\n"
     ]
    }
   ],
   "source": [
    "# Test and save visual results as gif\n",
    "test(env, agent, loops=10)\n",
    "\n",
    "gym2gif(env, agent, filename=\"lunarLander05_animation\", loops=5)\n",
    "env.close()"
   ]
  },
  {
   "cell_type": "markdown",
   "id": "0c3e3d34",
   "metadata": {},
   "source": [
    "![llGamma](lunarLander05_animation.gif)"
   ]
  },
  {
   "cell_type": "markdown",
   "id": "e4b3ecf4-bc99-4e1e-8d1d-0fe1c37ce345",
   "metadata": {},
   "source": [
    "### LunarLander DQL Considerations\n",
    "Even though I collected the loss and reward data with wandb, I decided to use the score plots seen earlier to comment on the performance. This is true also for the subsequent runs with Cartpole environment. \n",
    "\n",
    "As we can see from the graphs, The trainings are generally very unstable, after stabilizing at acceptable values they tend to fall back. First steps always have bad rewards, but after enough steps, with the constant decay of epsilon, the agent is able to take better actions, learning from the collected transitions and improving its performances.\n",
    "\n",
    "I chose 250 as the optimal threshold value because I found that it produces better results compared to the default threshold of 200, both in terms of landings and total reward. In fact, even though the training takes fewer episodes to complete with the threshold at 200, the results are much more unstable during testing.\n",
    "\n",
    "Similar to policy reinforcement learning, it is confirmed here as well that a gamma value favoring future rewards leads to more stable and, above all, convergent training (with gamma at 0.5, 5000 episodes were not enough, and the results are poor)."
   ]
  },
  {
   "cell_type": "markdown",
   "id": "b59cdcc3-be69-4e57-9a36-9d5e267712ed",
   "metadata": {},
   "source": [
    "### Deep Q-Learning runs in Cartpole environment\n",
    "For the Cartpole environment, I reused the parameters established with policy reinforcement learning. There are two runs to test the best threshold value for early stopping.\""
   ]
  },
  {
   "cell_type": "code",
   "execution_count": 26,
   "id": "fe43dc0b-6465-4ffc-b6f3-1c164e961dc8",
   "metadata": {},
   "outputs": [
    {
     "data": {
      "text/html": [
       "wandb version 0.17.8 is available!  To upgrade, please run:\n",
       " $ pip install wandb --upgrade"
      ],
      "text/plain": [
       "<IPython.core.display.HTML object>"
      ]
     },
     "metadata": {},
     "output_type": "display_data"
    },
    {
     "data": {
      "text/html": [
       "Tracking run with wandb version 0.16.6"
      ],
      "text/plain": [
       "<IPython.core.display.HTML object>"
      ]
     },
     "metadata": {},
     "output_type": "display_data"
    },
    {
     "data": {
      "text/html": [
       "Run data is saved locally in <code>C:\\Users\\Niccolò\\wandb\\run-20240829_163437-ihj2r2q5</code>"
      ],
      "text/plain": [
       "<IPython.core.display.HTML object>"
      ]
     },
     "metadata": {},
     "output_type": "display_data"
    },
    {
     "data": {
      "text/html": [
       "Syncing run <strong><a href='https://wandb.ai/dla-labs/Lab3-DQN-Final/runs/ihj2r2q5' target=\"_blank\">DQN-Cartpole</a></strong> to <a href='https://wandb.ai/dla-labs/Lab3-DQN-Final' target=\"_blank\">Weights & Biases</a> (<a href='https://wandb.me/run' target=\"_blank\">docs</a>)<br/>"
      ],
      "text/plain": [
       "<IPython.core.display.HTML object>"
      ]
     },
     "metadata": {},
     "output_type": "display_data"
    },
    {
     "data": {
      "text/html": [
       " View project at <a href='https://wandb.ai/dla-labs/Lab3-DQN-Final' target=\"_blank\">https://wandb.ai/dla-labs/Lab3-DQN-Final</a>"
      ],
      "text/plain": [
       "<IPython.core.display.HTML object>"
      ]
     },
     "metadata": {},
     "output_type": "display_data"
    },
    {
     "data": {
      "text/html": [
       " View run at <a href='https://wandb.ai/dla-labs/Lab3-DQN-Final/runs/ihj2r2q5' target=\"_blank\">https://wandb.ai/dla-labs/Lab3-DQN-Final/runs/ihj2r2q5</a>"
      ],
      "text/plain": [
       "<IPython.core.display.HTML object>"
      ]
     },
     "metadata": {},
     "output_type": "display_data"
    },
    {
     "name": "stderr",
     "output_type": "stream",
     "text": [
      " 15%|#5        |  755/5000 [  01:02<  05:48, 12.17ep/s, Score:  392.00, 100 score avg:  251.13]\n"
     ]
    },
    {
     "name": "stdout",
     "output_type": "stream",
     "text": [
      "\n",
      "Target Reached!\n"
     ]
    },
    {
     "data": {
      "image/png": "[encoded data removed]",
      "text/plain": [
       "<Figure size 640x480 with 1 Axes>"
      ]
     },
     "metadata": {},
     "output_type": "display_data"
    },
    {
     "data": {
      "text/html": [
       "<style>\n",
       "    table.wandb td:nth-child(1) { padding: 0 10px; text-align: left ; width: auto;} td:nth-child(2) {text-align: left ; width: 100%}\n",
       "    .wandb-row { display: flex; flex-direction: row; flex-wrap: wrap; justify-content: flex-start; width: 100% }\n",
       "    .wandb-col { display: flex; flex-direction: column; flex-basis: 100%; flex: 1; padding: 10px; }\n",
       "    </style>\n",
       "<div class=\"wandb-row\"><div class=\"wandb-col\"><h3>Run history:</h3><br/><table class=\"wandb\"><tr><td>Loss</td><td>▂▁▁▁▁▂▂▂▁▂▂▂▂▂▂▂▁▁▂▂▁▂▂▁▃▁▁▂▁▁▁▁▁▁▁▁▁▁▁█</td></tr><tr><td>Score</td><td>▁▁▁▁▁▁▁▁▁▁▁▁▁▁▁▁▁▁▁▁▁▁▁▁▁▁▁▁▁▁▁▁▁▁▁▁▁▁▁▁</td></tr></table><br/></div><div class=\"wandb-col\"><h3>Run summary:</h3><br/><table class=\"wandb\"><tr><td>Loss</td><td>0.00713</td></tr><tr><td>Score</td><td>128.0</td></tr></table><br/></div></div>"
      ],
      "text/plain": [
       "<IPython.core.display.HTML object>"
      ]
     },
     "metadata": {},
     "output_type": "display_data"
    },
    {
     "data": {
      "text/html": [
       " View run <strong style=\"color:#cdcd00\">DQN-Cartpole</strong> at: <a href='https://wandb.ai/dla-labs/Lab3-DQN-Final/runs/ihj2r2q5' target=\"_blank\">https://wandb.ai/dla-labs/Lab3-DQN-Final/runs/ihj2r2q5</a><br/> View project at: <a href='https://wandb.ai/dla-labs/Lab3-DQN-Final' target=\"_blank\">https://wandb.ai/dla-labs/Lab3-DQN-Final</a><br/>Synced 6 W&B file(s), 0 media file(s), 0 artifact file(s) and 0 other file(s)"
      ],
      "text/plain": [
       "<IPython.core.display.HTML object>"
      ]
     },
     "metadata": {},
     "output_type": "display_data"
    },
    {
     "data": {
      "text/html": [
       "Find logs at: <code>.\\wandb\\run-20240829_163437-ihj2r2q5\\logs</code>"
      ],
      "text/plain": [
       "<IPython.core.display.HTML object>"
      ]
     },
     "metadata": {},
     "output_type": "display_data"
    },
    {
     "name": "stdout",
     "output_type": "stream",
     "text": [
      "[331.0, 363.0, 500.0, 321.0, 318.0, 456.0, 242.0, 494.0, 383.0, 298.0]\n",
      "500.0\n",
      "266.0\n",
      "294.0\n",
      "342.0\n",
      "500.0\n",
      "Saving gif...Done!\n"
     ]
    }
   ],
   "source": [
    "# Cartpole\n",
    "run = wandb.init(\n",
    "    # Set the project where this run will be logged\n",
    "    project=\"Lab3-DQN-Final\",\n",
    "    # We pass a run name (otherwise it'll be randomly assigned, like sunshine-lollypop-10)\n",
    "    name=f\"DQN-Cartpole\",\n",
    "    # Track hyperparameters and run metadata\n",
    "    config={\n",
    "    \"learning_rate\": 1e-3,\n",
    "    \"architecture\": \"Cartpole\",\n",
    "    \"dataset\": \"LunarLander\",\n",
    "    \"episodes\": 5000,\n",
    "    \"gamma\": 0.99,\n",
    "    \"batch_size\": 128,\n",
    "    \"target_score\": 250,\n",
    "    \"C\": 5,\n",
    "    \"tau\": 1e-3,\n",
    "    \"memory_size\": 10000,\n",
    "    \"episode_max_len\": 500})\n",
    "\n",
    "# Train the network\n",
    "env = gym.make('CartPole-v1', render_mode=\"rgb_array\")\n",
    "env.reset(seed=111)\n",
    "torch.manual_seed(111)\n",
    "num_obs = env.observation_space.shape[0]\n",
    "num_actions = env.action_space.n\n",
    "agent = DQN(\n",
    "    n_obs = num_obs,\n",
    "    n_actions = num_actions,\n",
    "    batch_size = run.config[\"batch_size\"],\n",
    "    lr = run.config[\"learning_rate\"],\n",
    "    gamma = run.config[\"gamma\"],\n",
    "    mem_size = run.config[\"memory_size\"],\n",
    "    learn_step = run.config[\"C\"],\n",
    "    tau = run.config[\"tau\"],\n",
    "    )\n",
    "score_hist = train(env, agent, n_episodes=run.config[\"episodes\"], target=run.config[\"target_score\"],\n",
    "                  max_steps=run.config[\"episode_max_len\"])\n",
    "plotScore(score_hist)\n",
    "\n",
    "wandb.finish()\n",
    "\n",
    "# Test and save visual results as gif\n",
    "test(env, agent, loops=10)\n",
    "\n",
    "gym2gif(env, agent, filename=\"cartpole_animation\", loops=5)\n",
    "env.close()"
   ]
  },
  {
   "cell_type": "markdown",
   "id": "ee3a546f-ee35-4ece-b716-720eceae27e5",
   "metadata": {},
   "source": [
    "### Run modifiyng threshold"
   ]
  },
  {
   "cell_type": "code",
   "execution_count": 27,
   "id": "28f1b4b7-c853-48bf-bc21-4941607b6816",
   "metadata": {},
   "outputs": [
    {
     "data": {
      "text/html": [
       "wandb version 0.17.8 is available!  To upgrade, please run:\n",
       " $ pip install wandb --upgrade"
      ],
      "text/plain": [
       "<IPython.core.display.HTML object>"
      ]
     },
     "metadata": {},
     "output_type": "display_data"
    },
    {
     "data": {
      "text/html": [
       "Tracking run with wandb version 0.16.6"
      ],
      "text/plain": [
       "<IPython.core.display.HTML object>"
      ]
     },
     "metadata": {},
     "output_type": "display_data"
    },
    {
     "data": {
      "text/html": [
       "Run data is saved locally in <code>C:\\Users\\Niccolò\\wandb\\run-20240829_164543-9yi29w2k</code>"
      ],
      "text/plain": [
       "<IPython.core.display.HTML object>"
      ]
     },
     "metadata": {},
     "output_type": "display_data"
    },
    {
     "data": {
      "text/html": [
       "Syncing run <strong><a href='https://wandb.ai/dla-labs/Lab3-DQN-Final/runs/9yi29w2k' target=\"_blank\">DQN-Cartpole</a></strong> to <a href='https://wandb.ai/dla-labs/Lab3-DQN-Final' target=\"_blank\">Weights & Biases</a> (<a href='https://wandb.me/run' target=\"_blank\">docs</a>)<br/>"
      ],
      "text/plain": [
       "<IPython.core.display.HTML object>"
      ]
     },
     "metadata": {},
     "output_type": "display_data"
    },
    {
     "data": {
      "text/html": [
       " View project at <a href='https://wandb.ai/dla-labs/Lab3-DQN-Final' target=\"_blank\">https://wandb.ai/dla-labs/Lab3-DQN-Final</a>"
      ],
      "text/plain": [
       "<IPython.core.display.HTML object>"
      ]
     },
     "metadata": {},
     "output_type": "display_data"
    },
    {
     "data": {
      "text/html": [
       " View run at <a href='https://wandb.ai/dla-labs/Lab3-DQN-Final/runs/9yi29w2k' target=\"_blank\">https://wandb.ai/dla-labs/Lab3-DQN-Final/runs/9yi29w2k</a>"
      ],
      "text/plain": [
       "<IPython.core.display.HTML object>"
      ]
     },
     "metadata": {},
     "output_type": "display_data"
    },
    {
     "name": "stderr",
     "output_type": "stream",
     "text": [
      "100%|##########| 5000/5000 [  24:48<  00:00,  3.36ep/s, Score:  500.00, 100 score avg:  300.21]\n"
     ]
    },
    {
     "name": "stdout",
     "output_type": "stream",
     "text": [
      "\n",
      "Done!\n"
     ]
    },
    {
     "data": {
      "image/png": "[encoded data removed]",
      "text/plain": [
       "<Figure size 640x480 with 1 Axes>"
      ]
     },
     "metadata": {},
     "output_type": "display_data"
    },
    {
     "data": {
      "text/html": [
       "<style>\n",
       "    table.wandb td:nth-child(1) { padding: 0 10px; text-align: left ; width: auto;} td:nth-child(2) {text-align: left ; width: 100%}\n",
       "    .wandb-row { display: flex; flex-direction: row; flex-wrap: wrap; justify-content: flex-start; width: 100% }\n",
       "    .wandb-col { display: flex; flex-direction: column; flex-basis: 100%; flex: 1; padding: 10px; }\n",
       "    </style>\n",
       "<div class=\"wandb-row\"><div class=\"wandb-col\"><h3>Run history:</h3><br/><table class=\"wandb\"><tr><td>Loss</td><td>▁▁▁▁▁▁▁▁▁▁▁▁▁▁▁▁▁▁▁▁▁▁▁▁█▁▁▂▁▁▁▁▁▁▁▂▁▃▁▂</td></tr><tr><td>Score</td><td>▁▁▁▁▁▁▁▁▁▁▁▁▁▁▁▁▁▁▁▁▁▁▁▁▁▁▁▁▁▁▁▁▁▁▁▁▁▁▁▁</td></tr></table><br/></div><div class=\"wandb-col\"><h3>Run summary:</h3><br/><table class=\"wandb\"><tr><td>Loss</td><td>6.24827</td></tr><tr><td>Score</td><td>128.0</td></tr></table><br/></div></div>"
      ],
      "text/plain": [
       "<IPython.core.display.HTML object>"
      ]
     },
     "metadata": {},
     "output_type": "display_data"
    },
    {
     "data": {
      "text/html": [
       " View run <strong style=\"color:#cdcd00\">DQN-Cartpole</strong> at: <a href='https://wandb.ai/dla-labs/Lab3-DQN-Final/runs/9yi29w2k' target=\"_blank\">https://wandb.ai/dla-labs/Lab3-DQN-Final/runs/9yi29w2k</a><br/> View project at: <a href='https://wandb.ai/dla-labs/Lab3-DQN-Final' target=\"_blank\">https://wandb.ai/dla-labs/Lab3-DQN-Final</a><br/>Synced 6 W&B file(s), 0 media file(s), 0 artifact file(s) and 0 other file(s)"
      ],
      "text/plain": [
       "<IPython.core.display.HTML object>"
      ]
     },
     "metadata": {},
     "output_type": "display_data"
    },
    {
     "data": {
      "text/html": [
       "Find logs at: <code>.\\wandb\\run-20240829_164543-9yi29w2k\\logs</code>"
      ],
      "text/plain": [
       "<IPython.core.display.HTML object>"
      ]
     },
     "metadata": {},
     "output_type": "display_data"
    },
    {
     "name": "stdout",
     "output_type": "stream",
     "text": [
      "[500.0, 500.0, 500.0, 500.0, 500.0, 500.0, 500.0, 500.0, 500.0, 500.0]\n",
      "500.0\n",
      "500.0\n",
      "500.0\n",
      "500.0\n",
      "500.0\n",
      "Saving gif...Done!\n"
     ]
    }
   ],
   "source": [
    "# Cartpole\n",
    "run = wandb.init(\n",
    "    # Set the project where this run will be logged\n",
    "    project=\"Lab3-DQN-Final\",\n",
    "    # We pass a run name (otherwise it'll be randomly assigned, like sunshine-lollypop-10)\n",
    "    name=f\"DQN-Cartpole\",\n",
    "    # Track hyperparameters and run metadata\n",
    "    config={\n",
    "    \"learning_rate\": 1e-3,\n",
    "    \"architecture\": \"Cartpole\",\n",
    "    \"dataset\": \"LunarLander\",\n",
    "    \"episodes\": 5000,\n",
    "    \"gamma\": 0.99,\n",
    "    \"batch_size\": 128,\n",
    "    \"target_score\": 400,\n",
    "    \"C\": 5,\n",
    "    \"tau\": 1e-3,\n",
    "    \"memory_size\": 10000,\n",
    "    \"episode_max_len\": 500})\n",
    "\n",
    "# Train the network\n",
    "env = gym.make('CartPole-v1', render_mode=\"rgb_array\")\n",
    "env.reset(seed=111)\n",
    "torch.manual_seed(111)\n",
    "num_obs = env.observation_space.shape[0]\n",
    "num_actions = env.action_space.n\n",
    "agent = DQN(\n",
    "    n_obs = num_obs,\n",
    "    n_actions = num_actions,\n",
    "    batch_size = run.config[\"batch_size\"],\n",
    "    lr = run.config[\"learning_rate\"],\n",
    "    gamma = run.config[\"gamma\"],\n",
    "    mem_size = run.config[\"memory_size\"],\n",
    "    learn_step = run.config[\"C\"],\n",
    "    tau = run.config[\"tau\"],\n",
    "    )\n",
    "score_hist = train(env, agent, n_episodes=run.config[\"episodes\"], target=run.config[\"target_score\"],\n",
    "                  max_steps=run.config[\"episode_max_len\"])\n",
    "plotScore(score_hist)\n",
    "\n",
    "wandb.finish()\n",
    "\n",
    "# Test and save visual results as gif\n",
    "test(env, agent, loops=10)\n",
    "\n",
    "gym2gif(env, agent, filename=\"cartpole_animation\", loops=5)\n",
    "env.close()"
   ]
  },
  {
   "cell_type": "markdown",
   "id": "adbe136a",
   "metadata": {},
   "source": [
    "![cartpole](cartpole_animation.gif)"
   ]
  },
  {
   "cell_type": "markdown",
   "id": "ee86047e-278b-4a9a-9776-e5d5b863fa94",
   "metadata": {},
   "source": [
    "### Cartpole DQL Considerations\n",
    "The general considerations made about the training for the LunarLander environment also apply to this configuration.\n",
    "\n",
    "Comparing the two runs, we might hypothesize a trade-off dependent on the early stopping threshold value. With the threshold at 250, the training ends before the maximum 5000 episodes, while with the threshold at 400, early stopping is never reached. However, the results in terms of score are better with the threshold at 400 than with 250."
   ]
  }
 ],
 "metadata": {
  "colab": {
   "provenance": []
  },
  "kernelspec": {
   "display_name": "Python 3 (ipykernel)",
   "language": "python",
   "name": "python3"
  },
  "language_info": {
   "codemirror_mode": {
    "name": "ipython",
    "version": 3
   },
   "file_extension": ".py",
   "mimetype": "text/x-python",
   "name": "python",
   "nbconvert_exporter": "python",
   "pygments_lexer": "ipython3",
   "version": "3.11.9"
  }
 },
 "nbformat": 4,
 "nbformat_minor": 5
}
